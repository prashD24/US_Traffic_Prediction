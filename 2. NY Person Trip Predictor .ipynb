{
 "cells": [
  {
   "cell_type": "markdown",
   "metadata": {},
   "source": [
    "# 2. NY Person Car Trip Predictor "
   ]
  },
  {
   "cell_type": "code",
   "execution_count": 1,
   "metadata": {},
   "outputs": [],
   "source": [
    "import pandas as pd\n",
    "import numpy as np\n",
    "import datetime\n",
    "import matplotlib.pyplot as plt\n",
    "import seaborn as sns\n",
    "%matplotlib inline\n",
    "from sklearn import model_selection\n",
    "import warnings\n",
    "import math\n",
    "import time\n",
    "warnings.filterwarnings('ignore')"
   ]
  },
  {
   "cell_type": "code",
   "execution_count": 3,
   "metadata": {},
   "outputs": [],
   "source": [
    "path = \"C:\\SMU Term 3\\Applied Machine Learning\\Project\\csv\"\n",
    "\n",
    "household = pd.read_csv(\"\".join([path,'/hhpub.csv']))\n",
    "person =  pd.read_csv(\"\".join([path,'/perpub.csv']))\n",
    "trip =  pd.read_csv(\"\".join([path,'/trippub.csv']))"
   ]
  },
  {
   "cell_type": "code",
   "execution_count": 24,
   "metadata": {},
   "outputs": [],
   "source": [
    "# get csv files from teams first\n",
    "acs_age = pd.read_csv(\"\".join([path,'/ACS_2017_age.csv']))\n",
    "acs_race = pd.read_csv(\"\".join([path,'/ACS_2017_race.csv']))"
   ]
  },
  {
   "cell_type": "code",
   "execution_count": 25,
   "metadata": {},
   "outputs": [],
   "source": [
    "#define function \n",
    "\n",
    "def cat_col_prop(data, col):\n",
    "    print(pd.concat([data[col].value_counts(),\n",
    "          data[col].value_counts(normalize = True).mul(100)],axis = 1, keys = ('counts','percentage')))\n",
    "\n",
    "    sns.countplot(data[col], order =  data[col].value_counts().index)"
   ]
  },
  {
   "cell_type": "markdown",
   "metadata": {},
   "source": [
    "## 2.1 Data Preperation"
   ]
  },
  {
   "cell_type": "markdown",
   "metadata": {},
   "source": [
    "## 2.1.1. Household"
   ]
  },
  {
   "cell_type": "code",
   "execution_count": 6,
   "metadata": {},
   "outputs": [],
   "source": [
    "#filtering NY Households\n",
    "ny = household[household['HHSTATE'] == \"NY\"]\n",
    "\n",
    "# as only studying hh with car will also filter out hh with HHVEHCNT == 0\n",
    "ny = ny[ny['HHVEHCNT']>0]\n",
    "\n",
    "# selection of columns based on prior background inference of potential features\n",
    "ny = ny[['HOUSEID','HH_CBSA','HOMEOWN','HHSIZE','HHVEHCNT','HHFAMINC','NUMADLT','YOUNGCHILD','WRKCOUNT','MSACAT','MSASIZE','URBAN','URBANSIZE','URBRUR','LIF_CYC']]"
   ]
  },
  {
   "cell_type": "markdown",
   "metadata": {},
   "source": [
    "### 2.1.2. Trips "
   ]
  },
  {
   "cell_type": "code",
   "execution_count": 7,
   "metadata": {},
   "outputs": [],
   "source": [
    "ny_trip = trip[trip['HOUSEID'].isin(ny['HOUSEID'])]"
   ]
  },
  {
   "cell_type": "code",
   "execution_count": 8,
   "metadata": {},
   "outputs": [],
   "source": [
    "ny_trip_person = ny_trip[['HOUSEID','PERSONID']].drop_duplicates()"
   ]
  },
  {
   "cell_type": "code",
   "execution_count": 9,
   "metadata": {},
   "outputs": [],
   "source": [
    "# selecting trips that were done using either 3.Car, 4.SUV, 5.Van\n",
    "ny_cartrip = ny_trip[ny_trip['TRPTRANS'].isin([3,4,5])]"
   ]
  },
  {
   "cell_type": "code",
   "execution_count": 10,
   "metadata": {},
   "outputs": [
    {
     "name": "stdout",
     "output_type": "stream",
     "text": [
      "84  trips missing TRVLCMIN info so will just remove since only  0.135544289536685 %\n"
     ]
    }
   ],
   "source": [
    "print(str(sum(ny_cartrip['TRVLCMIN']<=0)), ' trips missing TRVLCMIN info so will just remove since only ',str(sum(ny_trip['TRVLCMIN']<=0)/len(ny_trip)*100),\"%\")\n",
    "ny_cartrip = ny_cartrip[ny_cartrip['TRVLCMIN']>0]"
   ]
  },
  {
   "cell_type": "code",
   "execution_count": 11,
   "metadata": {},
   "outputs": [
    {
     "name": "stdout",
     "output_type": "stream",
     "text": [
      "# of trips with dist <=0, 200  out of 113616\n"
     ]
    }
   ],
   "source": [
    "# since only 24 lines with trip distance <= 0, removed lines\n",
    "print('# of trips with dist <=0,', str(sum(ny_trip['TRPMILES']<=0)),' out of', str(len(ny_trip)))\n",
    "ny_cartrip = ny_cartrip[ny_cartrip['TRPMILES']>0]"
   ]
  },
  {
   "cell_type": "code",
   "execution_count": 12,
   "metadata": {},
   "outputs": [
    {
     "data": {
      "image/png": "[encoded data removed]",
      "text/plain": [
       "<Figure size 432x288 with 1 Axes>"
      ]
     },
     "metadata": {
      "needs_background": "light"
     },
     "output_type": "display_data"
    }
   ],
   "source": [
    "#Remove outlier trip miles\n",
    "sns.histplot(ny_cartrip['TRPMILES'])\n",
    "ny_cartrip = ny_cartrip[ny_cartrip['TRPMILES']<100]"
   ]
  },
  {
   "cell_type": "code",
   "execution_count": 13,
   "metadata": {},
   "outputs": [
    {
     "data": {
      "text/html": [
       "<div>\n",
       "<style scoped>\n",
       "    .dataframe tbody tr th:only-of-type {\n",
       "        vertical-align: middle;\n",
       "    }\n",
       "\n",
       "    .dataframe tbody tr th {\n",
       "        vertical-align: top;\n",
       "    }\n",
       "\n",
       "    .dataframe thead th {\n",
       "        text-align: right;\n",
       "    }\n",
       "</style>\n",
       "<table border=\"1\" class=\"dataframe\">\n",
       "  <thead>\n",
       "    <tr style=\"text-align: right;\">\n",
       "      <th></th>\n",
       "      <th>HOUSEID</th>\n",
       "      <th>PERSONID</th>\n",
       "      <th>n_trips</th>\n",
       "    </tr>\n",
       "  </thead>\n",
       "  <tbody>\n",
       "    <tr>\n",
       "      <th>0</th>\n",
       "      <td>30000012</td>\n",
       "      <td>1</td>\n",
       "      <td>9</td>\n",
       "    </tr>\n",
       "    <tr>\n",
       "      <th>1</th>\n",
       "      <td>30000082</td>\n",
       "      <td>1</td>\n",
       "      <td>5</td>\n",
       "    </tr>\n",
       "    <tr>\n",
       "      <th>2</th>\n",
       "      <td>30000082</td>\n",
       "      <td>2</td>\n",
       "      <td>5</td>\n",
       "    </tr>\n",
       "    <tr>\n",
       "      <th>3</th>\n",
       "      <td>30000380</td>\n",
       "      <td>1</td>\n",
       "      <td>3</td>\n",
       "    </tr>\n",
       "    <tr>\n",
       "      <th>4</th>\n",
       "      <td>30000380</td>\n",
       "      <td>2</td>\n",
       "      <td>8</td>\n",
       "    </tr>\n",
       "    <tr>\n",
       "      <th>...</th>\n",
       "      <td>...</td>\n",
       "      <td>...</td>\n",
       "      <td>...</td>\n",
       "    </tr>\n",
       "    <tr>\n",
       "      <th>22054</th>\n",
       "      <td>40793808</td>\n",
       "      <td>1</td>\n",
       "      <td>2</td>\n",
       "    </tr>\n",
       "    <tr>\n",
       "      <th>22055</th>\n",
       "      <td>40793808</td>\n",
       "      <td>2</td>\n",
       "      <td>9</td>\n",
       "    </tr>\n",
       "    <tr>\n",
       "      <th>22056</th>\n",
       "      <td>40793808</td>\n",
       "      <td>3</td>\n",
       "      <td>5</td>\n",
       "    </tr>\n",
       "    <tr>\n",
       "      <th>22057</th>\n",
       "      <td>40793974</td>\n",
       "      <td>1</td>\n",
       "      <td>7</td>\n",
       "    </tr>\n",
       "    <tr>\n",
       "      <th>22058</th>\n",
       "      <td>40794020</td>\n",
       "      <td>2</td>\n",
       "      <td>3</td>\n",
       "    </tr>\n",
       "  </tbody>\n",
       "</table>\n",
       "<p>22059 rows × 3 columns</p>\n",
       "</div>"
      ],
      "text/plain": [
       "        HOUSEID  PERSONID  n_trips\n",
       "0      30000012         1        9\n",
       "1      30000082         1        5\n",
       "2      30000082         2        5\n",
       "3      30000380         1        3\n",
       "4      30000380         2        8\n",
       "...         ...       ...      ...\n",
       "22054  40793808         1        2\n",
       "22055  40793808         2        9\n",
       "22056  40793808         3        5\n",
       "22057  40793974         1        7\n",
       "22058  40794020         2        3\n",
       "\n",
       "[22059 rows x 3 columns]"
      ]
     },
     "execution_count": 13,
     "metadata": {},
     "output_type": "execute_result"
    }
   ],
   "source": [
    "# Summarise to Person trip counts \n",
    "ny_trip_count = ny_cartrip[['HOUSEID','PERSONID','TRAVDAY']].groupby(['HOUSEID','PERSONID']).agg('count').reset_index().rename(columns = {'TRAVDAY':'n_trips'})\n",
    "ny_trip_count"
   ]
  },
  {
   "cell_type": "code",
   "execution_count": 14,
   "metadata": {},
   "outputs": [],
   "source": [
    "# combine with all people from trips list to include 0 trip\n",
    "ny_trip_count = ny_trip_person.merge(ny_trip_count, how = 'outer', left_on = ['HOUSEID','PERSONID'], right_on = ['HOUSEID','PERSONID'])"
   ]
  },
  {
   "cell_type": "markdown",
   "metadata": {},
   "source": [
    "### 2.1.3. Person"
   ]
  },
  {
   "cell_type": "code",
   "execution_count": 15,
   "metadata": {},
   "outputs": [],
   "source": [
    "# filtering people from New York\n",
    "nyorker = person[person['HOUSEID'].isin(ny['HOUSEID'])]"
   ]
  },
  {
   "cell_type": "code",
   "execution_count": 16,
   "metadata": {},
   "outputs": [],
   "source": [
    "# selection of columns based on prior background inference of potential features\n",
    "nyorker = nyorker[['HOUSEID','PERSONID','R_AGE','EDUC','R_RACE','R_SEX','WRK_HOME','WKFTPT','OCCAT','DRIVER','TRAVDAY','DISTTOWK17','DISTTOSC17','OUTOFTWN']]"
   ]
  },
  {
   "cell_type": "code",
   "execution_count": 17,
   "metadata": {},
   "outputs": [],
   "source": [
    "# Remove those out of town\n",
    "nyorker = nyorker[nyorker['OUTOFTWN']==2]\n",
    "nyorker.drop(['OUTOFTWN'],axis =1, inplace = True)"
   ]
  },
  {
   "cell_type": "markdown",
   "metadata": {},
   "source": [
    "### 2.1.4. Combined Dataframe"
   ]
  },
  {
   "cell_type": "code",
   "execution_count": 18,
   "metadata": {},
   "outputs": [
    {
     "data": {
      "text/plain": [
       "(31051, 28)"
      ]
     },
     "execution_count": 18,
     "metadata": {},
     "output_type": "execute_result"
    }
   ],
   "source": [
    "# merging of Person, Household and Trips to Person\n",
    "df= nyorker.merge(ny_trip_count, how = 'left', left_on = ['HOUSEID','PERSONID'],right_on = ['HOUSEID','PERSONID'])\n",
    "df = df.merge(ny, how = 'left', left_on = 'HOUSEID', right_on = 'HOUSEID')\n",
    "df.shape"
   ]
  },
  {
   "cell_type": "markdown",
   "metadata": {},
   "source": [
    "## 2.2. Reason For Model"
   ]
  },
  {
   "cell_type": "markdown",
   "metadata": {},
   "source": [
    "### 2.2.1. Age"
   ]
  },
  {
   "cell_type": "code",
   "execution_count": 19,
   "metadata": {},
   "outputs": [],
   "source": [
    "# Binnig of age to allow for comparison with ACS (population statistics)\n",
    "nyorker['AGE_bins']= 'NA'\n",
    "nyorker.loc[nyorker['R_AGE'].between(0,4,inclusive = True), 'AGE_bins'] = \"Under 5 years\"\n",
    "nyorker.loc[nyorker['R_AGE'].between(5,9,inclusive = True), 'AGE_bins'] = \"5 to 9 years\"\n",
    "nyorker.loc[nyorker['R_AGE'].between(10,14,inclusive = True), 'AGE_bins'] = \"10 to 14 years\"\n",
    "nyorker.loc[nyorker['R_AGE'].between(15,19,inclusive = True), 'AGE_bins'] = \"15 to 19 years\"\n",
    "nyorker.loc[nyorker['R_AGE'].between(20,24,inclusive = True), 'AGE_bins'] = \"20 to 24 years\"\n",
    "nyorker.loc[nyorker['R_AGE'].between(25,29,inclusive = True), 'AGE_bins'] = \"25 to 29 years\"\n",
    "nyorker.loc[nyorker['R_AGE'].between(30,34,inclusive = True), 'AGE_bins'] = \"30 to 34 years\"\n",
    "nyorker.loc[nyorker['R_AGE'].between(35,39,inclusive = True), 'AGE_bins'] = \"35 to 39 years\"\n",
    "nyorker.loc[nyorker['R_AGE'].between(40,44,inclusive = True), 'AGE_bins'] = \"40 to 44 years\"\n",
    "nyorker.loc[nyorker['R_AGE'].between(45,49,inclusive = True), 'AGE_bins'] = \"45 to 49 years\"\n",
    "nyorker.loc[nyorker['R_AGE'].between(50,54,inclusive = True), 'AGE_bins'] = \"50 to 54 years\"\n",
    "nyorker.loc[nyorker['R_AGE'].between(55,59,inclusive = True), 'AGE_bins'] = \"55 to 59 years\"\n",
    "nyorker.loc[nyorker['R_AGE'].between(60,64,inclusive = True), 'AGE_bins'] = \"60 to 64 years\"\n",
    "nyorker.loc[nyorker['R_AGE'].between(65,69,inclusive = True), 'AGE_bins'] = \"65 to 69 years\"\n",
    "nyorker.loc[nyorker['R_AGE'].between(70,74,inclusive = True), 'AGE_bins'] = \"70 to 74 years\"\n",
    "nyorker.loc[nyorker['R_AGE'].between(75,79,inclusive = True), 'AGE_bins'] = \"75 to 79 years\"\n",
    "nyorker.loc[nyorker['R_AGE'].between(80,84,inclusive = True), 'AGE_bins'] = \"80 to 84 years\"\n",
    "nyorker.loc[nyorker['R_AGE']>=85, 'AGE_bins'] = \"85 years and over\""
   ]
  },
  {
   "cell_type": "code",
   "execution_count": 20,
   "metadata": {},
   "outputs": [],
   "source": [
    "survey_age = nyorker['PERSONID'][nyorker['AGE_bins']!='NA'].groupby(nyorker['AGE_bins']).count().reset_index().rename(columns ={'PERSONID':'NHTS_count'})\n",
    "total = sum(survey_age['NHTS_count'])\n",
    "survey_age['pct'] = survey_age['NHTS_count']/total*100\n",
    "survey_age['Type'] = \"NHTS\"\n",
    "survey_age.drop('NHTS_count',axis = 1,inplace = True)"
   ]
  },
  {
   "cell_type": "code",
   "execution_count": 26,
   "metadata": {},
   "outputs": [
    {
     "data": {
      "text/plain": [
       "Text(0.5, 1.0, 'Comparison of Age Bin distribution between NHTS and ACS')"
      ]
     },
     "execution_count": 26,
     "metadata": {},
     "output_type": "execute_result"
    },
    {
     "data": {
      "image/png": "[encoded data removed]",
      "text/plain": [
       "<Figure size 432x288 with 1 Axes>"
      ]
     },
     "metadata": {
      "needs_background": "light"
     },
     "output_type": "display_data"
    }
   ],
   "source": [
    "acs_age['Type']= \"ACS\"\n",
    "acs_age = acs_age[acs_age['AGE_bins']!= 'Under 5 years']\n",
    "age_plot= pd.concat([survey_age,acs_age])\n",
    "\n",
    "age_plot =age_plot.rename(columns={'AGE_bins':'Age Bins'})\n",
    "#acs_age\n",
    "\n",
    "order = [ \"5 to 9 years\", \"10 to 14 years\",\"15 to 19 years\",\"20 to 24 years\",\"25 to 29 years\",\n",
    "         \"30 to 34 years\", \"35 to 39 years\", \"40 to 44 years\",\"45 to 49 years\",\"50 to 54 years\",\n",
    "         \"55 to 59 years\",\"60 to 64 years\",\"65 to 69 years\",\"70 to 74 years\", \"75 to 79 years\",\n",
    "         \"80 to 84 years\",\"85 years and over\"]\n",
    "sns.barplot(data = age_plot, x = 'Age Bins', y = 'pct', hue = 'Type',order =order)\n",
    "plt.xticks(rotation=45)\n",
    "plt.title('Comparison of Age Bin distribution between NHTS and ACS')"
   ]
  },
  {
   "cell_type": "markdown",
   "metadata": {},
   "source": [
    "Significant differnet between population distribution vs survey distribution for the various age groups. Cannot simply multiply survey with a factor to get population statistics"
   ]
  },
  {
   "cell_type": "markdown",
   "metadata": {},
   "source": [
    "### 2.2.2 Race"
   ]
  },
  {
   "cell_type": "code",
   "execution_count": 27,
   "metadata": {},
   "outputs": [],
   "source": [
    "#Classifing race similiar to ACS data based on data dictionary\n",
    "nyorker['Race']= \"NA\"\n",
    "nyorker.loc[nyorker['R_RACE']==1,'Race']= \"White\"\n",
    "nyorker.loc[nyorker['R_RACE']==2,'Race']= \"Black or African American\"\n",
    "nyorker.loc[nyorker['R_RACE']==3,'Race']= \"Asian\"\n",
    "nyorker.loc[nyorker['R_RACE']==4,'Race']= \"American Indian\"\n",
    "nyorker.loc[nyorker['R_RACE']==5,'Race']= \"Native Hawaiian\"\n",
    "nyorker.loc[nyorker['R_RACE']==6,'Race']= \"Multiple Race\"\n",
    "nyorker.loc[nyorker['R_RACE']==97,'Race'] = \"Other\""
   ]
  },
  {
   "cell_type": "code",
   "execution_count": 28,
   "metadata": {},
   "outputs": [],
   "source": [
    "survey_race = nyorker['PERSONID'][nyorker['Race']!='NA'].groupby(nyorker['Race']).count().reset_index().rename(columns ={'PERSONID':'NHTS_count'})\n",
    "total = sum(survey_race['NHTS_count'])\n",
    "survey_race['pct'] = survey_race['NHTS_count']/total*100\n",
    "survey_race['Source'] = \"NHTS\"\n",
    "survey_race.drop('NHTS_count',axis = 1,inplace = True)\n",
    "acs_race.drop('count',axis = 1, inplace = True)"
   ]
  },
  {
   "cell_type": "code",
   "execution_count": 29,
   "metadata": {},
   "outputs": [
    {
     "data": {
      "text/plain": [
       "Text(0.5, 1.0, 'Comparison of Race distribution between NHTS and ACS')"
      ]
     },
     "execution_count": 29,
     "metadata": {},
     "output_type": "execute_result"
    },
    {
     "data": {
      "image/png": "[encoded data removed]",
      "text/plain": [
       "<Figure size 432x288 with 1 Axes>"
      ]
     },
     "metadata": {
      "needs_background": "light"
     },
     "output_type": "display_data"
    }
   ],
   "source": [
    "race_plot= pd.concat([survey_race,acs_race])\n",
    "#acs_age\n",
    "sns.barplot(data = race_plot, x = 'Race', y = 'pct', hue = 'Source')\n",
    "plt.xticks(rotation=45)\n",
    "plt.title('Comparison of Race distribution between NHTS and ACS')"
   ]
  },
  {
   "cell_type": "markdown",
   "metadata": {},
   "source": [
    "Similiarly over distribution of white race in survey which could under-represent other races"
   ]
  },
  {
   "cell_type": "markdown",
   "metadata": {},
   "source": [
    "### As such to create a model where able to put input data with balanced distribution of data and from there aggregate up to get population statistics"
   ]
  },
  {
   "cell_type": "markdown",
   "metadata": {},
   "source": [
    "## 2.3. EDA"
   ]
  },
  {
   "cell_type": "markdown",
   "metadata": {},
   "source": [
    "### 2.3.1. Train, Test, Split"
   ]
  },
  {
   "cell_type": "code",
   "execution_count": 30,
   "metadata": {},
   "outputs": [],
   "source": [
    "x_col = [c for c in df if c not in [\"HOUSEID\",\"PERSONID\",\"n_trips\"]]\n",
    "x_col = [c for c in df if c not in [\"n_trips\"]]\n",
    "x_df = df[x_col]\n",
    "y_df = df['n_trips']\n",
    "\n",
    "x_train , x_test, y_train, y_test = model_selection.train_test_split(x_df, y_df, test_size = 0.2, random_state = 888)"
   ]
  },
  {
   "cell_type": "markdown",
   "metadata": {},
   "source": [
    "### 2.3.2 Feature Engineering"
   ]
  },
  {
   "cell_type": "markdown",
   "metadata": {},
   "source": [
    "#### n_trips"
   ]
  },
  {
   "cell_type": "code",
   "execution_count": 31,
   "metadata": {},
   "outputs": [
    {
     "data": {
      "image/png": "[encoded data removed]",
      "text/plain": [
       "<Figure size 432x288 with 1 Axes>"
      ]
     },
     "metadata": {
      "needs_background": "light"
     },
     "output_type": "display_data"
    }
   ],
   "source": [
    "# Replace NA trip counts with 0\n",
    "sns.histplot(y_train)\n",
    "y_train[y_train.isna()] = 0\n",
    "x_train = x_train[y_train<10]\n",
    "y_train = y_train[y_train<10]\n",
    "\n",
    "y_test[y_test.isna()] = 0\n",
    "x_test = x_test[y_test<10]\n",
    "y_test = y_test[y_test<10]"
   ]
  },
  {
   "cell_type": "code",
   "execution_count": 32,
   "metadata": {},
   "outputs": [
    {
     "name": "stdout",
     "output_type": "stream",
     "text": [
      "     counts  percentage\n",
      "0.0    7650   31.301146\n",
      "2.0    5112   20.916530\n",
      "4.0    3054   12.495908\n",
      "3.0    2813   11.509820\n",
      "5.0    1890    7.733224\n",
      "6.0    1381    5.650573\n",
      "7.0     868    3.551555\n",
      "1.0     768    3.142390\n",
      "8.0     568    2.324059\n",
      "9.0     336    1.374795\n"
     ]
    }
   ],
   "source": [
    "y_train.value_counts()\n",
    "\n",
    "print(pd.concat([y_train.value_counts(),\n",
    "                 y_train.value_counts(normalize = True).mul(100)],axis = 1, keys = ('counts','percentage')))\n"
   ]
  },
  {
   "cell_type": "code",
   "execution_count": 33,
   "metadata": {},
   "outputs": [
    {
     "data": {
      "text/plain": [
       "<matplotlib.axes._subplots.AxesSubplot at 0x1ff137c8070>"
      ]
     },
     "execution_count": 33,
     "metadata": {},
     "output_type": "execute_result"
    },
    {
     "data": {
      "image/png": "[encoded data removed]",
      "text/plain": [
       "<Figure size 432x288 with 1 Axes>"
      ]
     },
     "metadata": {
      "needs_background": "light"
     },
     "output_type": "display_data"
    }
   ],
   "source": [
    "sns.histplot(y_train)"
   ]
  },
  {
   "cell_type": "code",
   "execution_count": 34,
   "metadata": {},
   "outputs": [
    {
     "name": "stdout",
     "output_type": "stream",
     "text": [
      "<class 'pandas.core.frame.DataFrame'>\n",
      "Int64Index: 24440 entries, 19802 to 10750\n",
      "Data columns (total 27 columns):\n",
      " #   Column      Non-Null Count  Dtype  \n",
      "---  ------      --------------  -----  \n",
      " 0   HOUSEID     24440 non-null  int64  \n",
      " 1   PERSONID    24440 non-null  int64  \n",
      " 2   R_AGE       24440 non-null  int64  \n",
      " 3   EDUC        24440 non-null  int64  \n",
      " 4   R_RACE      24440 non-null  int64  \n",
      " 5   R_SEX       24440 non-null  int64  \n",
      " 6   WRK_HOME    24440 non-null  int64  \n",
      " 7   WKFTPT      24440 non-null  int64  \n",
      " 8   OCCAT       24440 non-null  int64  \n",
      " 9   DRIVER      24440 non-null  int64  \n",
      " 10  TRAVDAY     24440 non-null  int64  \n",
      " 11  DISTTOWK17  24440 non-null  float64\n",
      " 12  DISTTOSC17  24440 non-null  float64\n",
      " 13  HH_CBSA     24440 non-null  object \n",
      " 14  HOMEOWN     24440 non-null  int64  \n",
      " 15  HHSIZE      24440 non-null  int64  \n",
      " 16  HHVEHCNT    24440 non-null  int64  \n",
      " 17  HHFAMINC    24440 non-null  int64  \n",
      " 18  NUMADLT     24440 non-null  int64  \n",
      " 19  YOUNGCHILD  24440 non-null  int64  \n",
      " 20  WRKCOUNT    24440 non-null  int64  \n",
      " 21  MSACAT      24440 non-null  int64  \n",
      " 22  MSASIZE     24440 non-null  int64  \n",
      " 23  URBAN       24440 non-null  int64  \n",
      " 24  URBANSIZE   24440 non-null  int64  \n",
      " 25  URBRUR      24440 non-null  int64  \n",
      " 26  LIF_CYC     24440 non-null  int64  \n",
      "dtypes: float64(2), int64(24), object(1)\n",
      "memory usage: 5.2+ MB\n"
     ]
    }
   ],
   "source": [
    "x_train.info()"
   ]
  },
  {
   "cell_type": "markdown",
   "metadata": {},
   "source": [
    "#### Age (R_AGE)"
   ]
  },
  {
   "cell_type": "code",
   "execution_count": 35,
   "metadata": {},
   "outputs": [
    {
     "name": "stdout",
     "output_type": "stream",
     "text": [
      "61 count of people with no age.  0.0002762702755890612 %.\n"
     ]
    },
    {
     "data": {
      "image/png": "[encoded data removed]",
      "text/plain": [
       "<Figure size 432x288 with 1 Axes>"
      ]
     },
     "metadata": {
      "needs_background": "light"
     },
     "output_type": "display_data"
    }
   ],
   "source": [
    "print(str(sum(x_train['R_AGE']<0)), \"count of people with no age. \",str(sum(nyorker['R_AGE']<0)/person.shape[0]),\"%.\")\n",
    "\n",
    "sns.histplot(x_train['R_AGE'])\n",
    "\n",
    "# impute missing values (<0) with mean age\n",
    "mean_age = round(x_train['R_AGE'][x_train['R_AGE']>0].mean())\n",
    "x_train['R_AGE'][x_train['R_AGE']<0] = mean_age\n",
    "x_test['R_AGE'][x_test['R_AGE']<0] = mean_age"
   ]
  },
  {
   "cell_type": "code",
   "execution_count": 36,
   "metadata": {},
   "outputs": [],
   "source": [
    "x_train['AGE_bins']= 'NA'\n",
    "x_train.loc[x_train['R_AGE'].between(5,15,inclusive = True), 'AGE_bins'] = \"5_to_15\"\n",
    "x_train.loc[x_train['R_AGE'].between(16,25,inclusive = True), 'AGE_bins'] = \"16_to_25\"\n",
    "x_train.loc[x_train['R_AGE'].between(26,35,inclusive = True), 'AGE_bins'] = \"26_to_35\"\n",
    "x_train.loc[x_train['R_AGE'].between(36,45,inclusive = True), 'AGE_bins'] = \"36_to_45\"\n",
    "x_train.loc[x_train['R_AGE'].between(46,55,inclusive = True), 'AGE_bins'] = \"46_to_55\"\n",
    "x_train.loc[x_train['R_AGE'].between(56,65,inclusive = True), 'AGE_bins'] = \"56_to_65\"\n",
    "x_train.loc[x_train['R_AGE'].between(66,75,inclusive = True), 'AGE_bins'] = \"66_to_75\"\n",
    "x_train.loc[x_train['R_AGE']>75, 'AGE_bins'] = \"more_than_75\"\n",
    "\n",
    "x_test['AGE_bins']= 'NA'\n",
    "x_test.loc[x_test['R_AGE'].between(5,15,inclusive = True), 'AGE_bins'] = \"5_to_15\"\n",
    "x_test.loc[x_test['R_AGE'].between(16,25,inclusive = True), 'AGE_bins'] = \"16_to_25\"\n",
    "x_test.loc[x_test['R_AGE'].between(26,35,inclusive = True), 'AGE_bins'] = \"26_to_35\"\n",
    "x_test.loc[x_test['R_AGE'].between(36,45,inclusive = True), 'AGE_bins'] = \"36_to_45\"\n",
    "x_test.loc[x_test['R_AGE'].between(46,55,inclusive = True), 'AGE_bins'] = \"46_to_55\"\n",
    "x_test.loc[x_test['R_AGE'].between(56,65,inclusive = True), 'AGE_bins'] = \"56_to_65\"\n",
    "x_test.loc[x_test['R_AGE'].between(66,75,inclusive = True), 'AGE_bins'] = \"66_to_75\"\n",
    "x_test.loc[x_test['R_AGE']>75, 'AGE_bins'] = \"more_than_75\"\n"
   ]
  },
  {
   "cell_type": "code",
   "execution_count": 37,
   "metadata": {},
   "outputs": [
    {
     "name": "stdout",
     "output_type": "stream",
     "text": [
      "              counts  percentage\n",
      "56_to_65        5266   21.546645\n",
      "66_to_75        4210   17.225859\n",
      "46_to_55        3619   14.807692\n",
      "5_to_15         2392    9.787234\n",
      "36_to_45        2384    9.754501\n",
      "26_to_35        2375    9.717676\n",
      "more_than_75    2246    9.189853\n",
      "16_to_25        1948    7.970540\n"
     ]
    },
    {
     "data": {
      "image/png": "[encoded data removed]",
      "text/plain": [
       "<Figure size 432x288 with 1 Axes>"
      ]
     },
     "metadata": {
      "needs_background": "light"
     },
     "output_type": "display_data"
    }
   ],
   "source": [
    "cat_col_prop(x_train,'AGE_bins')"
   ]
  },
  {
   "cell_type": "markdown",
   "metadata": {},
   "source": [
    "#### Educational Attainment (EDUC)"
   ]
  },
  {
   "cell_type": "code",
   "execution_count": 38,
   "metadata": {},
   "outputs": [
    {
     "name": "stdout",
     "output_type": "stream",
     "text": [
      "    counts  percentage\n",
      " 3    6082   24.885434\n",
      " 5    5347   21.878069\n",
      " 2    4823   19.734043\n",
      " 4    4652   19.034370\n",
      "-1    1920    7.855974\n",
      " 1    1599    6.542553\n",
      "-7      11    0.045008\n",
      "-8       6    0.024550\n"
     ]
    },
    {
     "data": {
      "image/png": "[encoded data removed]",
      "text/plain": [
       "<Figure size 432x288 with 1 Axes>"
      ]
     },
     "metadata": {
      "needs_background": "light"
     },
     "output_type": "display_data"
    }
   ],
   "source": [
    "cat_col_prop(x_train,'EDUC')\n",
    "# approx 8% missing values (<0). To take note of but will addresss in one-hot encoding"
   ]
  },
  {
   "cell_type": "markdown",
   "metadata": {},
   "source": [
    "#### Race (R_RACE)"
   ]
  },
  {
   "cell_type": "code",
   "execution_count": 39,
   "metadata": {},
   "outputs": [
    {
     "name": "stdout",
     "output_type": "stream",
     "text": [
      "     counts  percentage\n",
      " 1    21833   89.333061\n",
      " 3      793    3.244681\n",
      " 2      793    3.244681\n",
      " 6      522    2.135843\n",
      " 97     295    1.207038\n",
      "-7      119    0.486907\n",
      " 4       58    0.237316\n",
      " 5       15    0.061375\n",
      "-8       12    0.049100\n"
     ]
    },
    {
     "data": {
      "image/png": "[encoded data removed]",
      "text/plain": [
       "<Figure size 432x288 with 1 Axes>"
      ]
     },
     "metadata": {
      "needs_background": "light"
     },
     "output_type": "display_data"
    }
   ],
   "source": [
    "cat_col_prop(x_train,'R_RACE')\n",
    "# approx 1% missing values (<0). To take note of but will address in one-hot encoding\n",
    "# Significant proportion of members 'white'"
   ]
  },
  {
   "cell_type": "markdown",
   "metadata": {},
   "source": [
    "#### Gender (R_SEX)"
   ]
  },
  {
   "cell_type": "code",
   "execution_count": 40,
   "metadata": {},
   "outputs": [
    {
     "name": "stdout",
     "output_type": "stream",
     "text": [
      "    counts  percentage\n",
      " 2   12725   52.066285\n",
      " 1   11691   47.835516\n",
      "-7      21    0.085925\n",
      "-8       3    0.012275\n"
     ]
    },
    {
     "data": {
      "image/png": "[encoded data removed]",
      "text/plain": [
       "<Figure size 432x288 with 1 Axes>"
      ]
     },
     "metadata": {
      "needs_background": "light"
     },
     "output_type": "display_data"
    }
   ],
   "source": [
    "cat_col_prop(x_train, 'R_SEX')\n",
    "# <1% missing values. To take note but will be addressed in one-hot encoding"
   ]
  },
  {
   "cell_type": "markdown",
   "metadata": {},
   "source": [
    "#### Work From Home (WRK_HOME)"
   ]
  },
  {
   "cell_type": "code",
   "execution_count": 41,
   "metadata": {},
   "outputs": [
    {
     "name": "stdout",
     "output_type": "stream",
     "text": [
      "    counts  percentage\n",
      "-1   12176   49.819967\n",
      " 2   10537   43.113748\n",
      " 1    1274    5.212766\n",
      "-9     452    1.849427\n",
      "-7       1    0.004092\n"
     ]
    },
    {
     "data": {
      "image/png": "[encoded data removed]",
      "text/plain": [
       "<Figure size 432x288 with 1 Axes>"
      ]
     },
     "metadata": {
      "needs_background": "light"
     },
     "output_type": "display_data"
    }
   ],
   "source": [
    "cat_col_prop(x_train,'WRK_HOME')\n",
    "# Significant proportion -1 (50%) which is the appropriate skip (due to not working) - to address in one-hot"
   ]
  },
  {
   "cell_type": "markdown",
   "metadata": {},
   "source": [
    "#### Work - Part Time or Full Time (WKFTPT)"
   ]
  },
  {
   "cell_type": "code",
   "execution_count": 42,
   "metadata": {},
   "outputs": [
    {
     "name": "stdout",
     "output_type": "stream",
     "text": [
      "    counts  percentage\n",
      "-1   12628   51.669394\n",
      " 1    9179   37.557283\n",
      " 2    2627   10.748773\n",
      "-7       4    0.016367\n",
      "-8       2    0.008183\n"
     ]
    },
    {
     "data": {
      "image/png": "[encoded data removed]",
      "text/plain": [
       "<Figure size 432x288 with 1 Axes>"
      ]
     },
     "metadata": {
      "needs_background": "light"
     },
     "output_type": "display_data"
    }
   ],
   "source": [
    "cat_col_prop(x_train,'WKFTPT')\n",
    "# Significant proportion -1 (52%) which is the appropriate skip (due to not working) - to address in one-hot"
   ]
  },
  {
   "cell_type": "markdown",
   "metadata": {},
   "source": [
    "#### Job Category (OCCAT)"
   ]
  },
  {
   "cell_type": "code",
   "execution_count": 43,
   "metadata": {},
   "outputs": [
    {
     "name": "stdout",
     "output_type": "stream",
     "text": [
      "     counts  percentage\n",
      "-1    12176   49.819967\n",
      " 4     6451   26.395254\n",
      " 1     2523   10.323241\n",
      " 3     1441    5.896072\n",
      " 2     1373    5.617840\n",
      "-9      452    1.849427\n",
      " 97      17    0.069558\n",
      "-8        5    0.020458\n",
      "-7        2    0.008183\n"
     ]
    },
    {
     "data": {
      "image/png": "[encoded data removed]",
      "text/plain": [
       "<Figure size 432x288 with 1 Axes>"
      ]
     },
     "metadata": {
      "needs_background": "light"
     },
     "output_type": "display_data"
    }
   ],
   "source": [
    "cat_col_prop(x_train,'OCCAT')\n",
    "# Significant proportion -1 (50%) which is the appropriate skip (due to not working) - to address in one-hot"
   ]
  },
  {
   "cell_type": "markdown",
   "metadata": {},
   "source": [
    "#### Driver Status (DRIVER)"
   ]
  },
  {
   "cell_type": "code",
   "execution_count": 44,
   "metadata": {},
   "outputs": [
    {
     "name": "stdout",
     "output_type": "stream",
     "text": [
      "    counts  percentage\n",
      " 1   20593   84.259411\n",
      "-1    2148    8.788871\n",
      " 2    1699    6.951718\n"
     ]
    },
    {
     "data": {
      "image/png": "[encoded data removed]",
      "text/plain": [
       "<Figure size 432x288 with 1 Axes>"
      ]
     },
     "metadata": {
      "needs_background": "light"
     },
     "output_type": "display_data"
    }
   ],
   "source": [
    "cat_col_prop(x_train,'DRIVER')\n",
    "\n",
    "#Significant proportion -1 (8.7%) (due to too young) - to address in one-hot encoding\n",
    "#sns.boxplot(data = x_train, x='DRIVER',y='AGE_bins')"
   ]
  },
  {
   "cell_type": "markdown",
   "metadata": {},
   "source": [
    "#### Distance to Work"
   ]
  },
  {
   "cell_type": "code",
   "execution_count": 45,
   "metadata": {},
   "outputs": [
    {
     "data": {
      "text/plain": [
       "4039                  (22.05, 2919.7]\n",
       "27793                  (12.27, 22.05]\n",
       "26243                    (6.9, 12.27]\n",
       "1759     (0.009000000000000001, 3.13]\n",
       "21860    (0.009000000000000001, 3.13]\n",
       "                     ...             \n",
       "30429                 (22.05, 2919.7]\n",
       "18832                 (22.05, 2919.7]\n",
       "13421                 (22.05, 2919.7]\n",
       "10940                    (6.9, 12.27]\n",
       "25839                  (12.27, 22.05]\n",
       "Name: DISTTOWK17, Length: 10471, dtype: category\n",
       "Categories (5, interval[float64]): [(0.009000000000000001, 3.13] < (3.13, 6.9] < (6.9, 12.27] < (12.27, 22.05] < (22.05, 2919.7]]"
      ]
     },
     "execution_count": 45,
     "metadata": {},
     "output_type": "execute_result"
    }
   ],
   "source": [
    "#To Bin Non zeros\n",
    "#sns.histplot(x_train['DISTTOWK17'])\n",
    "pd.qcut(x_train['DISTTOWK17'][x_train['DISTTOWK17']>0],5)"
   ]
  },
  {
   "cell_type": "code",
   "execution_count": 46,
   "metadata": {},
   "outputs": [
    {
     "name": "stdout",
     "output_type": "stream",
     "text": [
      "                   counts  percentage\n",
      "NA                  13969   57.156301\n",
      "DISTTOWK_3_to_7      2227    9.112111\n",
      "DISTTOWK_12_to_22    2163    8.850245\n",
      "DISTTOWK_above_22    2103    8.604746\n",
      "DISTTOWK_0_to_3      2011    8.228314\n",
      "DISTTOWK_7_to_12     1967    8.048282\n"
     ]
    },
    {
     "data": {
      "image/png": "[encoded data removed]",
      "text/plain": [
       "<Figure size 432x288 with 1 Axes>"
      ]
     },
     "metadata": {
      "needs_background": "light"
     },
     "output_type": "display_data"
    }
   ],
   "source": [
    "x_train['DISTTOWK'] = 'NA'\n",
    "x_train.loc[x_train['DISTTOWK17']==0, 'DISTTOWK'] = 'NA'\n",
    "x_train.loc[x_train['DISTTOWK17']==-9, 'DISTTOWK'] = 'NA'\n",
    "x_train.loc[x_train['DISTTOWK17'].between(.009000000000000000,3,inclusive = True),'DISTTOWK'] = 'DISTTOWK_0_to_3'\n",
    "x_train.loc[x_train['DISTTOWK17'].between(3,7, inclusive = True),'DISTTOWK'] = 'DISTTOWK_3_to_7'\n",
    "x_train.loc[x_train['DISTTOWK17'].between(7,12, inclusive = True),'DISTTOWK'] = 'DISTTOWK_7_to_12'\n",
    "x_train.loc[x_train['DISTTOWK17'].between(12,22, inclusive = True),'DISTTOWK'] = 'DISTTOWK_12_to_22'\n",
    "x_train.loc[x_train['DISTTOWK17']>22,'DISTTOWK'] = 'DISTTOWK_above_22'\n",
    "cat_col_prop(x_train,'DISTTOWK')\n",
    "x_train.drop(['DISTTOWK17'],axis=1, inplace = True)\n",
    "\n",
    "x_test['DISTTOWK'] = 'NA'\n",
    "x_test.loc[x_test['DISTTOWK17']==0, 'DISTTOWK'] = 'NA'\n",
    "x_test.loc[x_test['DISTTOWK17']==-9, 'DISTTOWK'] = 'NA'\n",
    "x_test.loc[x_test['DISTTOWK17'].between(.009000000000000000,3,inclusive = True),'DISTTOWK'] = 'DISTTOWK_0_to_3'\n",
    "x_test.loc[x_test['DISTTOWK17'].between(3,7, inclusive = True),'DISTTOWK'] = 'DISTTOWK_3_to_7'\n",
    "x_test.loc[x_test['DISTTOWK17'].between(7,12, inclusive = True),'DISTTOWK'] = 'DISTTOWK_7_to_12'\n",
    "x_test.loc[x_test['DISTTOWK17'].between(12,22, inclusive = True),'DISTTOWK'] = 'DISTTOWK_12_to_22'\n",
    "x_test.loc[x_test['DISTTOWK17']>22,'DISTTOWK'] = 'DISTTOWK_above_22'\n",
    "x_test.drop(['DISTTOWK17'],axis=1, inplace = True)"
   ]
  },
  {
   "cell_type": "markdown",
   "metadata": {},
   "source": [
    "#### Distance to School"
   ]
  },
  {
   "cell_type": "code",
   "execution_count": 47,
   "metadata": {},
   "outputs": [
    {
     "data": {
      "text/plain": [
       "20475                 (2.82, 2784.08]\n",
       "1070     (0.009000000000000001, 2.82]\n",
       "6430                  (2.82, 2784.08]\n",
       "18170    (0.009000000000000001, 2.82]\n",
       "18134                 (2.82, 2784.08]\n",
       "                     ...             \n",
       "22318                 (2.82, 2784.08]\n",
       "22682                 (2.82, 2784.08]\n",
       "2451     (0.009000000000000001, 2.82]\n",
       "25574                 (2.82, 2784.08]\n",
       "23667                 (2.82, 2784.08]\n",
       "Name: DISTTOSC17, Length: 2707, dtype: category\n",
       "Categories (2, interval[float64]): [(0.009000000000000001, 2.82] < (2.82, 2784.08]]"
      ]
     },
     "execution_count": 47,
     "metadata": {},
     "output_type": "execute_result"
    }
   ],
   "source": [
    "pd.qcut(x_train['DISTTOSC17'][x_train['DISTTOSC17']>0],2)"
   ]
  },
  {
   "cell_type": "code",
   "execution_count": 48,
   "metadata": {},
   "outputs": [
    {
     "name": "stdout",
     "output_type": "stream",
     "text": [
      "                  counts  percentage\n",
      "NA                 21733   88.923895\n",
      "DISTTOSC_under_3    1410    5.769231\n",
      "DISTTOSC_above_3    1297    5.306874\n"
     ]
    },
    {
     "data": {
      "image/png": "[encoded data removed]",
      "text/plain": [
       "<Figure size 432x288 with 1 Axes>"
      ]
     },
     "metadata": {
      "needs_background": "light"
     },
     "output_type": "display_data"
    }
   ],
   "source": [
    "x_train['DISTTOSC'] = 'NA'\n",
    "x_train.loc[x_train['DISTTOSC17']<=0, 'DISTTOSC'] = 'NA'\n",
    "x_train.loc[x_train['DISTTOSC17'].between(.008,3,inclusive = True),'DISTTOSC'] = 'DISTTOSC_under_3'\n",
    "x_train.loc[x_train['DISTTOSC17']>3,'DISTTOSC'] = 'DISTTOSC_above_3'\n",
    "cat_col_prop(x_train,'DISTTOSC')\n",
    "x_train.drop(['DISTTOSC17'],axis=1, inplace = True)\n",
    "\n",
    "\n",
    "x_test['DISTTOSC'] = 'NA'\n",
    "x_test.loc[x_test['DISTTOSC17']<=0, 'DISTTOSC'] = 'NA'\n",
    "x_test.loc[x_test['DISTTOSC17'].between(.008,3,inclusive = True),'DISTTOSC'] = 'DISTTOSC_under_3'\n",
    "x_test.loc[x_test['DISTTOSC17']>3,'DISTTOSC'] = 'DISTTOSC_above_3'\n",
    "x_test.drop(['DISTTOSC17'],axis=1, inplace = True)"
   ]
  },
  {
   "cell_type": "markdown",
   "metadata": {},
   "source": [
    "#### Travel Day (TRAVDAY)"
   ]
  },
  {
   "cell_type": "code",
   "execution_count": 49,
   "metadata": {},
   "outputs": [
    {
     "name": "stdout",
     "output_type": "stream",
     "text": [
      "   counts  percentage\n",
      "1    3602   14.738134\n",
      "2    3575   14.627660\n",
      "5    3538   14.476268\n",
      "7    3488   14.271686\n",
      "6    3482   14.247136\n",
      "3    3417   13.981178\n",
      "4    3338   13.657938\n"
     ]
    },
    {
     "data": {
      "image/png": "[encoded data removed]",
      "text/plain": [
       "<Figure size 432x288 with 1 Axes>"
      ]
     },
     "metadata": {
      "needs_background": "light"
     },
     "output_type": "display_data"
    }
   ],
   "source": [
    "cat_col_prop(x_train,'TRAVDAY')"
   ]
  },
  {
   "cell_type": "markdown",
   "metadata": {},
   "source": [
    "#### Core Based Statiscal Area FIPS code (HH_CBSA)"
   ]
  },
  {
   "cell_type": "code",
   "execution_count": 50,
   "metadata": {},
   "outputs": [
    {
     "name": "stdout",
     "output_type": "stream",
     "text": [
      "       counts  percentage\n",
      "XXXXX   14487   59.275777\n",
      "35620    7368   30.147300\n",
      "40380    1398    5.720131\n",
      "15380    1187    4.856792\n"
     ]
    },
    {
     "data": {
      "image/png": "[encoded data removed]",
      "text/plain": [
       "<Figure size 432x288 with 1 Axes>"
      ]
     },
     "metadata": {
      "needs_background": "light"
     },
     "output_type": "display_data"
    }
   ],
   "source": [
    "#Core Based Statistical Area (CBSA) FIPS code for the respondent's home address\n",
    "\n",
    "cat_col_prop(x_train,'HH_CBSA')\n",
    "\n",
    "# significant number of households under the 'XXXXX=Suppressed, in an MSA of less than 1 million ' category"
   ]
  },
  {
   "cell_type": "markdown",
   "metadata": {},
   "source": [
    "####  Home Ownership (HOMEOWN)"
   ]
  },
  {
   "cell_type": "code",
   "execution_count": 51,
   "metadata": {},
   "outputs": [
    {
     "name": "stdout",
     "output_type": "stream",
     "text": [
      "     counts  percentage\n",
      " 1    20559   84.120295\n",
      " 2     3696   15.122750\n",
      " 97     183    0.748773\n",
      "-7        2    0.008183\n"
     ]
    },
    {
     "data": {
      "image/png": "[encoded data removed]",
      "text/plain": [
       "<Figure size 432x288 with 1 Axes>"
      ]
     },
     "metadata": {
      "needs_background": "light"
     },
     "output_type": "display_data"
    }
   ],
   "source": [
    "cat_col_prop(x_train,'HOMEOWN')\n",
    "#Small count with missing value 2. to address in one-hot encoding"
   ]
  },
  {
   "cell_type": "markdown",
   "metadata": {},
   "source": [
    "#### Household Vehicle Count (HHVEHCNT)"
   ]
  },
  {
   "cell_type": "code",
   "execution_count": 52,
   "metadata": {},
   "outputs": [
    {
     "name": "stdout",
     "output_type": "stream",
     "text": [
      "    counts  percentage\n",
      "2    10850   44.394435\n",
      "1     6442   26.358429\n",
      "3     4462   18.256956\n",
      "4     1715    7.017185\n",
      "5      621    2.540917\n",
      "6      224    0.916530\n",
      "7       81    0.331424\n",
      "8       23    0.094108\n",
      "11      10    0.040917\n",
      "9        9    0.036825\n",
      "12       3    0.012275\n",
      "________\n",
      "new HHVEHCNT\n",
      "    counts  percentage\n",
      "2    10850   44.394435\n",
      "1     6442   26.358429\n",
      "3     4462   18.256956\n",
      ">3    2686   10.990180\n"
     ]
    },
    {
     "data": {
      "image/png": "[encoded data removed]",
      "text/plain": [
       "<Figure size 432x288 with 1 Axes>"
      ]
     },
     "metadata": {
      "needs_background": "light"
     },
     "output_type": "display_data"
    }
   ],
   "source": [
    "#count of household vehicles\n",
    "\n",
    "cat_col_prop(x_train,'HHVEHCNT')\n",
    "\n",
    "# as group size significantly smaller from 4 and above to bin to a single group\n",
    "\n",
    "x_train['HHVEHCNT'][x_train['HHVEHCNT']>3] = \">3\"\n",
    "x_test['HHVEHCNT'][x_test['HHVEHCNT']>3] = \">3\"\n",
    "\n",
    "print(\"________\")\n",
    "print(\"new HHVEHCNT\")\n",
    "print(pd.concat([x_train['HHVEHCNT'].value_counts(),\n",
    "          x_train['HHVEHCNT'].value_counts(normalize = True).mul(100)],axis = 1, keys = ('counts','percentage'))\n",
    "    )"
   ]
  },
  {
   "cell_type": "markdown",
   "metadata": {},
   "source": [
    "#### Family Income (HHFAMINC)"
   ]
  },
  {
   "cell_type": "code",
   "execution_count": 53,
   "metadata": {},
   "outputs": [
    {
     "name": "stdout",
     "output_type": "stream",
     "text": [
      "     counts  percentage\n",
      " 6     4358   17.831424\n",
      " 7     3688   15.090016\n",
      " 8     2979   12.189034\n",
      " 5     2607   10.666939\n",
      " 4     1925    7.876432\n",
      " 9     1779    7.279051\n",
      " 11    1721    7.041735\n",
      " 10    1710    6.996727\n",
      " 3     1567    6.411620\n",
      "-7      732    2.995090\n",
      " 2      721    2.950082\n",
      " 1      550    2.250409\n",
      "-8      101    0.413257\n",
      "-9        2    0.008183\n"
     ]
    },
    {
     "data": {
      "image/png": "[encoded data removed]",
      "text/plain": [
       "<Figure size 432x288 with 1 Axes>"
      ]
     },
     "metadata": {
      "needs_background": "light"
     },
     "output_type": "display_data"
    }
   ],
   "source": [
    "cat_col_prop(x_train,'HHFAMINC')\n",
    "# approx 3% missing (<0) to address in one-hot encoding"
   ]
  },
  {
   "cell_type": "markdown",
   "metadata": {},
   "source": [
    "#### Adult Ratio  (NUMADLT)"
   ]
  },
  {
   "cell_type": "code",
   "execution_count": 54,
   "metadata": {},
   "outputs": [
    {
     "name": "stdout",
     "output_type": "stream",
     "text": [
      "    counts  percentage\n",
      "2    15533   63.555646\n",
      "1     4108   16.808511\n",
      "3     3359   13.743863\n",
      "4     1113    4.554010\n",
      "5      265    1.084288\n",
      "6       38    0.155483\n",
      "7       12    0.049100\n",
      "10       7    0.028642\n",
      "8        5    0.020458\n"
     ]
    },
    {
     "data": {
      "image/png": "[encoded data removed]",
      "text/plain": [
       "<Figure size 432x288 with 1 Axes>"
      ]
     },
     "metadata": {
      "needs_background": "light"
     },
     "output_type": "display_data"
    }
   ],
   "source": [
    "cat_col_prop(x_train, 'NUMADLT')\n",
    "#no missing values"
   ]
  },
  {
   "cell_type": "code",
   "execution_count": 55,
   "metadata": {},
   "outputs": [
    {
     "name": "stdout",
     "output_type": "stream",
     "text": [
      "Before\n",
      "          counts  percentage\n",
      "1.000000   16904   69.165303\n",
      "0.500000    2696   11.031097\n",
      "0.666667    1860    7.610475\n",
      "0.400000     868    3.551555\n",
      "0.750000     645    2.639116\n",
      "0.333333     468    1.914894\n",
      "0.600000     363    1.485270\n",
      "0.800000     206    0.842881\n",
      "0.250000      90    0.368249\n",
      "0.285714      69    0.282324\n",
      "0.714286      47    0.192308\n",
      "0.833333      43    0.175941\n",
      "0.428571      40    0.163666\n",
      "0.571429      34    0.139116\n",
      "0.200000      18    0.073650\n",
      "0.375000      18    0.073650\n",
      "0.222222      17    0.069558\n",
      "0.444444      14    0.057283\n",
      "0.625000      13    0.053191\n",
      "0.166667       7    0.028642\n",
      "0.700000       6    0.024550\n",
      "0.857143       6    0.024550\n",
      "0.142857       5    0.020458\n",
      "0.363636       3    0.012275\n",
      "\n",
      "After\n",
      "               counts  percentage\n",
      "1               16904   69.165303\n",
      "more_than_0.5    5919   24.218494\n",
      "less_than_0.5    1617    6.616203\n"
     ]
    },
    {
     "data": {
      "image/png": "[encoded data removed]",
      "text/plain": [
       "<Figure size 432x288 with 1 Axes>"
      ]
     },
     "metadata": {
      "needs_background": "light"
     },
     "output_type": "display_data"
    }
   ],
   "source": [
    "#Convert against proportion of Household size\n",
    "x_train['NUMADLT'] = x_train['NUMADLT']/x_train['HHSIZE']\n",
    "x_test['NUMADLT'] = x_test['NUMADLT']/x_test['HHSIZE']\n",
    "print('Before')\n",
    "cat_col_prop(x_train,'NUMADLT')\n",
    "#significant number of varying factors\n",
    "#to bin into groups\n",
    "x_train['NUMADLT_ratio'] = 'NA'\n",
    "x_train.loc[x_train['NUMADLT']==0, 'NUMADLT_ratio'] = '0'\n",
    "x_train.loc[x_train['NUMADLT'].between(0,0.5,inclusive = False),'NUMADLT_ratio'] = 'less_than_0.5'\n",
    "x_train.loc[x_train['NUMADLT'].between(0.5,1, inclusive = True),'NUMADLT_ratio'] = 'more_than_0.5'\n",
    "x_train.loc[x_train['NUMADLT']==1,'NUMADLT_ratio'] ='1'\n",
    "print('')\n",
    "print('After')\n",
    "cat_col_prop(x_train,'NUMADLT_ratio')\n",
    "\n",
    "\n",
    "x_test['NUMADLT_ratio'] = 'NA'\n",
    "x_test.loc[x_test['NUMADLT']==0, 'NUMADLT_ratio'] = '0'\n",
    "x_test.loc[x_test['NUMADLT'].between(0,0.5,inclusive = False),'NUMADLT_ratio'] = 'less_than_0.5'\n",
    "x_test.loc[x_test['NUMADLT'].between(0.5,1, inclusive = True),'NUMADLT_ratio'] = 'more_than_0.5'\n",
    "x_test.loc[x_test['NUMADLT']==1,'NUMADLT_ratio'] ='1'"
   ]
  },
  {
   "cell_type": "markdown",
   "metadata": {},
   "source": [
    "#### Young Child Ratio (YOUNGCHILD)"
   ]
  },
  {
   "cell_type": "code",
   "execution_count": 56,
   "metadata": {},
   "outputs": [
    {
     "name": "stdout",
     "output_type": "stream",
     "text": [
      "   counts  percentage\n",
      "0   22248   91.031097\n",
      "1    1631    6.673486\n",
      "2     511    2.090835\n",
      "3      45    0.184124\n",
      "5       3    0.012275\n",
      "4       2    0.008183\n"
     ]
    },
    {
     "data": {
      "image/png": "[encoded data removed]",
      "text/plain": [
       "<Figure size 432x288 with 1 Axes>"
      ]
     },
     "metadata": {
      "needs_background": "light"
     },
     "output_type": "display_data"
    }
   ],
   "source": [
    "cat_col_prop(x_train,'YOUNGCHILD')"
   ]
  },
  {
   "cell_type": "code",
   "execution_count": 57,
   "metadata": {},
   "outputs": [
    {
     "name": "stdout",
     "output_type": "stream",
     "text": [
      "               counts  percentage\n",
      "0               22248   91.031097\n",
      "less_than_0.5    1878    7.684124\n",
      "more_than_0.5     314    1.284779\n"
     ]
    },
    {
     "data": {
      "image/png": "[encoded data removed]",
      "text/plain": [
       "<Figure size 432x288 with 1 Axes>"
      ]
     },
     "metadata": {
      "needs_background": "light"
     },
     "output_type": "display_data"
    }
   ],
   "source": [
    "#Convert against proportion of Household size\n",
    "\n",
    "x_train['YOUNGCHILD'] = x_train['YOUNGCHILD']/x_train['HHSIZE']\n",
    "x_test['YOUNGCHILD'] = x_test['YOUNGCHILD']/x_test['HHSIZE']\n",
    "\n",
    "#Bin to groups\n",
    "x_train['YOUNGCHILD_ratio'] = 'NA'\n",
    "x_train.loc[x_train['YOUNGCHILD']==0,'YOUNGCHILD_ratio']= '0'\n",
    "x_train.loc[x_train['YOUNGCHILD'].between(0,0.5,inclusive = False),'YOUNGCHILD_ratio'] = 'less_than_0.5'\n",
    "x_train.loc[x_train['YOUNGCHILD'].between(0.5,1, inclusive = True),'YOUNGCHILD_ratio'] = 'more_than_0.5'\n",
    "x_train.loc[x_train['YOUNGCHILD']==1,'YOUNGCHILD_ratio'] ='1'\n",
    " \n",
    "\n",
    "cat_col_prop(x_train,'YOUNGCHILD_ratio')    \n",
    "\n",
    "x_test['YOUNGCHILD_ratio'] = 'NA'\n",
    "x_test.loc[x_test['YOUNGCHILD']==0,'YOUNGCHILD_ratio']= '0'\n",
    "x_test.loc[x_test['YOUNGCHILD'].between(0,0.5,inclusive = False),'YOUNGCHILD_ratio'] = 'less_than_0.5'\n",
    "x_test.loc[x_test['YOUNGCHILD'].between(0.5,1, inclusive = True),'YOUNGCHILD_ratio'] = 'more_than_0.5'\n",
    "x_test.loc[x_test['YOUNGCHILD']==1,'YOUNGCHILD_ratio'] ='1'"
   ]
  },
  {
   "cell_type": "markdown",
   "metadata": {},
   "source": [
    "#### Worker Count Proportion (WRKCOUNT)"
   ]
  },
  {
   "cell_type": "code",
   "execution_count": 58,
   "metadata": {},
   "outputs": [
    {
     "name": "stdout",
     "output_type": "stream",
     "text": [
      "   counts  percentage\n",
      "2    8387   34.316694\n",
      "1    7463   30.536007\n",
      "0    6402   26.194763\n",
      "3    1627    6.657119\n",
      "4     501    2.049918\n",
      "5      51    0.208674\n",
      "7       5    0.020458\n",
      "6       4    0.016367\n"
     ]
    },
    {
     "data": {
      "image/png": "[encoded data removed]",
      "text/plain": [
       "<Figure size 432x288 with 1 Axes>"
      ]
     },
     "metadata": {
      "needs_background": "light"
     },
     "output_type": "display_data"
    }
   ],
   "source": [
    "cat_col_prop(x_train,'WRKCOUNT')"
   ]
  },
  {
   "cell_type": "code",
   "execution_count": 59,
   "metadata": {},
   "outputs": [
    {
     "name": "stdout",
     "output_type": "stream",
     "text": [
      "               counts  percentage\n",
      "more_than_0.5    8056   32.962357\n",
      "0                6402   26.194763\n",
      "1                6150   25.163666\n",
      "less_than_0.5    3832   15.679214\n"
     ]
    },
    {
     "data": {
      "image/png": "[encoded data removed]",
      "text/plain": [
       "<Figure size 432x288 with 1 Axes>"
      ]
     },
     "metadata": {
      "needs_background": "light"
     },
     "output_type": "display_data"
    }
   ],
   "source": [
    "#Convert against proportion of Household size\n",
    "\n",
    "x_train['WRKCOUNT'] = x_train['WRKCOUNT']/x_train['HHSIZE']\n",
    "x_test['WRKCOUNT'] = x_test['WRKCOUNT']/x_test['HHSIZE']\n",
    "\n",
    "#Bin to groups\n",
    "x_train['WRKCOUNT_ratio'] = 'NA'\n",
    "x_train.loc[x_train['WRKCOUNT']==0,'WRKCOUNT_ratio']= '0'\n",
    "x_train.loc[x_train['WRKCOUNT'].between(0,0.5,inclusive = False),'WRKCOUNT_ratio'] = 'less_than_0.5'\n",
    "x_train.loc[x_train['WRKCOUNT'].between(0.5,1, inclusive = True),'WRKCOUNT_ratio'] = 'more_than_0.5'\n",
    "x_train.loc[x_train['WRKCOUNT']==1,'WRKCOUNT_ratio'] ='1'\n",
    "\n",
    "cat_col_prop(x_train,'WRKCOUNT_ratio')\n",
    "\n",
    "x_test['WRKCOUNT_ratio'] = 'NA'\n",
    "x_test.loc[x_test['WRKCOUNT']==0,'WRKCOUNT_ratio']= '0'\n",
    "x_test.loc[x_test['WRKCOUNT'].between(0,0.5,inclusive = False),'WRKCOUNT_ratio'] = 'less_than_0.5'\n",
    "x_test.loc[x_test['WRKCOUNT'].between(0.5,1, inclusive = True),'WRKCOUNT_ratio'] = 'more_than_0.5'\n",
    "x_test.loc[x_test['WRKCOUNT']==1,'WRKCOUNT_ratio'] ='1'"
   ]
  },
  {
   "cell_type": "markdown",
   "metadata": {},
   "source": [
    "#### Household Size (HHSIZE)"
   ]
  },
  {
   "cell_type": "code",
   "execution_count": 60,
   "metadata": {},
   "outputs": [
    {
     "name": "stdout",
     "output_type": "stream",
     "text": [
      "Before\n",
      "    counts  percentage\n",
      "2    10419   42.630933\n",
      "3     4188   17.135843\n",
      "4     3810   15.589198\n",
      "1     3568   14.599018\n",
      "5     1604    6.563011\n",
      "6      489    2.000818\n",
      "7      207    0.846972\n",
      "8       82    0.335516\n",
      "9       44    0.180033\n",
      "10      26    0.106383\n",
      "11       3    0.012275\n",
      "\n",
      "After\n",
      "         counts  percentage\n",
      "2         10419   42.630933\n",
      "above_3    6265   25.634206\n",
      "3          4188   17.135843\n",
      "1          3568   14.599018\n"
     ]
    },
    {
     "data": {
      "image/png": "[encoded data removed]",
      "text/plain": [
       "<Figure size 432x288 with 1 Axes>"
      ]
     },
     "metadata": {
      "needs_background": "light"
     },
     "output_type": "display_data"
    }
   ],
   "source": [
    "#count of household members\n",
    "print(\"Before\")\n",
    "cat_col_prop(x_train,'HHSIZE')\n",
    "\n",
    "# to bin tail HHSIZE\n",
    "\n",
    "x_train['HHSIZE'][x_train['HHSIZE']>3] = \"above_3\"\n",
    "\n",
    "print(\"\")\n",
    "print(\"After\")\n",
    "\n",
    "cat_col_prop(x_train,'HHSIZE')\n",
    "\n",
    "x_test['HHSIZE'][x_test['HHSIZE']>3] = \" above_3\""
   ]
  },
  {
   "cell_type": "markdown",
   "metadata": {},
   "source": [
    "#### Metropolitan Statistical Area (MSACAT)"
   ]
  },
  {
   "cell_type": "code",
   "execution_count": 61,
   "metadata": {},
   "outputs": [
    {
     "name": "stdout",
     "output_type": "stream",
     "text": [
      "   counts  percentage\n",
      "3   10538   43.117840\n",
      "1    7368   30.147300\n",
      "4    3949   16.157938\n",
      "2    2585   10.576923\n"
     ]
    },
    {
     "data": {
      "image/png": "[encoded data removed]",
      "text/plain": [
       "<Figure size 432x288 with 1 Axes>"
      ]
     },
     "metadata": {
      "needs_background": "light"
     },
     "output_type": "display_data"
    }
   ],
   "source": [
    "cat_col_prop(x_train,'MSACAT')\n",
    "             \n",
    "#no missing values and relatively proportional distribution"
   ]
  },
  {
   "cell_type": "markdown",
   "metadata": {},
   "source": [
    "#### Population size of MSA (MSASIZE)"
   ]
  },
  {
   "cell_type": "code",
   "execution_count": 62,
   "metadata": {},
   "outputs": [
    {
     "name": "stdout",
     "output_type": "stream",
     "text": [
      "   counts  percentage\n",
      "5    7368   30.147300\n",
      "1    6149   25.159574\n",
      "6    3949   16.157938\n",
      "3    3287   13.449264\n",
      "4    2585   10.576923\n",
      "2    1102    4.509002\n"
     ]
    },
    {
     "data": {
      "image/png": "[encoded data removed]",
      "text/plain": [
       "<Figure size 432x288 with 1 Axes>"
      ]
     },
     "metadata": {
      "needs_background": "light"
     },
     "output_type": "display_data"
    }
   ],
   "source": [
    "cat_col_prop(x_train,'MSASIZE')\n",
    "             \n",
    "#no missing values and relatively proportional distribution"
   ]
  },
  {
   "cell_type": "markdown",
   "metadata": {},
   "source": [
    "#### House in Urban or Rural Area (URBAN)"
   ]
  },
  {
   "cell_type": "code",
   "execution_count": 63,
   "metadata": {},
   "outputs": [
    {
     "name": "stdout",
     "output_type": "stream",
     "text": [
      "Before\n",
      "   counts  percentage\n",
      "1   13708   56.088380\n",
      "4    8342   34.132570\n",
      "2    2385    9.758592\n",
      "3       5    0.020458\n",
      "\n",
      "After\n",
      "       counts  percentage\n",
      "urban   16093   65.846972\n",
      "rural    8347   34.153028\n"
     ]
    },
    {
     "data": {
      "image/png": "[encoded data removed]",
      "text/plain": [
       "<Figure size 432x288 with 1 Axes>"
      ]
     },
     "metadata": {
      "needs_background": "light"
     },
     "output_type": "display_data"
    }
   ],
   "source": [
    "print('Before')\n",
    "cat_col_prop(x_train,'URBAN')\n",
    "\n",
    "# combine 1 and 2 (in an urban area and in an urban cluster ) & combine 3 and 4 (surround by urban and not in urban)\n",
    "\n",
    "x_train['URBAN'][x_train['URBAN'].isin([1,2])] = 'urban'\n",
    "x_train['URBAN'][x_train['URBAN'].isin([3,4])] = 'rural'\n",
    "\n",
    "print(\"\")\n",
    "print('After')\n",
    "\n",
    "cat_col_prop(x_train, 'URBAN')\n",
    "\n",
    "x_test['URBAN'][x_test['URBAN'].isin([1,2])] = 'urban'\n",
    "x_test['URBAN'][x_test['URBAN'].isin([3,4])] = 'rural'"
   ]
  },
  {
   "cell_type": "markdown",
   "metadata": {},
   "source": [
    "#### URBANSIZE"
   ]
  },
  {
   "cell_type": "code",
   "execution_count": 64,
   "metadata": {},
   "outputs": [
    {
     "name": "stdout",
     "output_type": "stream",
     "text": [
      "   counts  percentage\n",
      "6   10732   43.911620\n",
      "5    4727   19.341244\n",
      "1    3738   15.294599\n",
      "3    2739   11.207038\n",
      "2    2504   10.245499\n"
     ]
    },
    {
     "data": {
      "image/png": "[encoded data removed]",
      "text/plain": [
       "<Figure size 432x288 with 1 Axes>"
      ]
     },
     "metadata": {
      "needs_background": "light"
     },
     "output_type": "display_data"
    }
   ],
   "source": [
    "#06 = not in an urbanised area \n",
    "#05 - 1 million with heavy rail \n",
    "\n",
    "#Relatively proportional classes\n",
    "cat_col_prop(x_train,'URBANSIZE')"
   ]
  },
  {
   "cell_type": "markdown",
   "metadata": {},
   "source": [
    "#### URBRUR"
   ]
  },
  {
   "cell_type": "code",
   "execution_count": 65,
   "metadata": {},
   "outputs": [
    {
     "name": "stdout",
     "output_type": "stream",
     "text": [
      "   counts  percentage\n",
      "1   16093   65.846972\n",
      "2    8347   34.153028\n"
     ]
    },
    {
     "data": {
      "image/png": "[encoded data removed]",
      "text/plain": [
       "<Figure size 432x288 with 1 Axes>"
      ]
     },
     "metadata": {
      "needs_background": "light"
     },
     "output_type": "display_data"
    }
   ],
   "source": [
    "cat_col_prop(x_train,'URBRUR')\n",
    "# missing values nor disproportion"
   ]
  },
  {
   "cell_type": "markdown",
   "metadata": {},
   "source": [
    "#### LIF_CYC "
   ]
  },
  {
   "cell_type": "code",
   "execution_count": 66,
   "metadata": {},
   "outputs": [
    {
     "name": "stdout",
     "output_type": "stream",
     "text": [
      "    counts  percentage\n",
      "10    6785   27.761866\n",
      "2     5514   22.561375\n",
      "6     3705   15.159574\n",
      "4     2498   10.220949\n",
      "1     1882    7.700491\n",
      "9     1686    6.898527\n",
      "8     1603    6.558920\n",
      "5      445    1.820786\n",
      "7      188    0.769231\n",
      "3      134    0.548282\n"
     ]
    },
    {
     "data": {
      "image/png": "[encoded data removed]",
      "text/plain": [
       "<Figure size 432x288 with 1 Axes>"
      ]
     },
     "metadata": {
      "needs_background": "light"
     },
     "output_type": "display_data"
    }
   ],
   "source": [
    "cat_col_prop(x_train,\"LIF_CYC\")\n",
    "\n",
    "# No major disproportion"
   ]
  },
  {
   "cell_type": "code",
   "execution_count": 67,
   "metadata": {},
   "outputs": [],
   "source": [
    "x_train_index = x_train[['HOUSEID','PERSONID']]\n",
    "x_test_index = x_test[['HOUSEID','PERSONID']]\n",
    "x_train.drop(['HOUSEID','PERSONID'],axis = 1, inplace = True)\n",
    "x_test.drop(['HOUSEID','PERSONID'],axis = 1, inplace = True)"
   ]
  },
  {
   "cell_type": "markdown",
   "metadata": {},
   "source": [
    "### 2.3.3. One-Hot- Encoding"
   ]
  },
  {
   "cell_type": "code",
   "execution_count": 68,
   "metadata": {},
   "outputs": [
    {
     "data": {
      "text/plain": [
       "R_AGE                 int64\n",
       "EDUC                  int64\n",
       "R_RACE                int64\n",
       "R_SEX                 int64\n",
       "WRK_HOME              int64\n",
       "WKFTPT                int64\n",
       "OCCAT                 int64\n",
       "DRIVER                int64\n",
       "TRAVDAY               int64\n",
       "HH_CBSA              object\n",
       "HOMEOWN               int64\n",
       "HHSIZE               object\n",
       "HHVEHCNT             object\n",
       "HHFAMINC              int64\n",
       "NUMADLT             float64\n",
       "YOUNGCHILD          float64\n",
       "WRKCOUNT            float64\n",
       "MSACAT                int64\n",
       "MSASIZE               int64\n",
       "URBAN                object\n",
       "URBANSIZE             int64\n",
       "URBRUR                int64\n",
       "LIF_CYC               int64\n",
       "AGE_bins             object\n",
       "DISTTOWK             object\n",
       "DISTTOSC             object\n",
       "NUMADLT_ratio        object\n",
       "YOUNGCHILD_ratio     object\n",
       "WRKCOUNT_ratio       object\n",
       "dtype: object"
      ]
     },
     "execution_count": 68,
     "metadata": {},
     "output_type": "execute_result"
    }
   ],
   "source": [
    "x_train.dtypes"
   ]
  },
  {
   "cell_type": "code",
   "execution_count": 69,
   "metadata": {},
   "outputs": [],
   "source": [
    "to_obj = ['EDUC','R_RACE','AGE_bins','HHFAMINC','HOMEOWN','R_SEX','TRAVDAY','WRK_HOME','WKFTPT','OCCAT','DRIVER','MSACAT','MSASIZE','URBAN','URBANSIZE','URBRUR','LIF_CYC']\n",
    "\n",
    "x_train[to_obj] = x_train[to_obj].astype(str)\n",
    "x_test[to_obj]= x_test[to_obj].astype(str)\n",
    "\n",
    "x_train.drop(['R_AGE'], axis = 1, inplace =True)\n",
    "x_test.drop(['R_AGE'],axis = 1, inplace = True)"
   ]
  },
  {
   "cell_type": "code",
   "execution_count": 70,
   "metadata": {},
   "outputs": [],
   "source": [
    "one_hot_col = [c for c in x_train if x_train[c].dtypes == 'O' ]\n",
    "x_train = pd.concat([x_train,pd.get_dummies(x_train[one_hot_col],prefix = one_hot_col)],axis = 1)\n",
    "x_train.drop(one_hot_col, axis = 1, inplace = True)\n",
    "\n",
    "x_test = pd.concat([x_test,pd.get_dummies(x_test[one_hot_col],prefix = one_hot_col)],axis = 1)\n",
    "x_test.drop(one_hot_col, axis = 1, inplace = True)"
   ]
  },
  {
   "cell_type": "code",
   "execution_count": 71,
   "metadata": {},
   "outputs": [],
   "source": [
    "#drop all negative value columns  \n",
    "\n",
    "na_cols_train =[c for c in x_train if ('NA' in c) or ('-' in c) or ('nan' in c)]\n",
    "\n",
    "x_train.drop(na_cols_train, axis = 1, inplace = True)\n",
    "\n",
    "\n",
    "na_cols_test =[c for c in x_test if ('NA' in c) or ('-' in c) or ('nan' in c)]\n",
    "x_test.drop(na_cols_test, axis = 1 , inplace = True)"
   ]
  },
  {
   "cell_type": "markdown",
   "metadata": {},
   "source": [
    "## 2.4. Models - First Run\n",
    "\n",
    "To train models using only data from person and household dataset. Doing so will allow current survey method to be sufficient in predicting trips of people who did not participate in the trips measuring but participated in the household and person information survey"
   ]
  },
  {
   "cell_type": "code",
   "execution_count": 72,
   "metadata": {},
   "outputs": [],
   "source": [
    "#Checking for multicollinearity through variance Inflation Factor \n",
    "#VIF=1, Very Less Multicollinearity\n",
    "#VIF<5, Moderate Multicollinearity\n",
    "#VIF>5, Extreme Multicollinearity (This is what we have to avoid)\n",
    "\n",
    "import statsmodels.api as sm\n",
    "from statsmodels.stats.outliers_influence import variance_inflation_factor\n",
    "from sklearn import linear_model, model_selection, metrics\n",
    "from sklearn.feature_selection import RFE\n",
    "from sklearn.preprocessing import scale\n",
    "from sklearn.decomposition import PCA\n",
    "from sklearn.cross_decomposition import PLSRegression\n",
    "from sklearn.cross_decomposition import PLSRegression, PLSSVD\n",
    "from sklearn import model_selection\n",
    "\n",
    "from sklearn.preprocessing import scale\n",
    "from sklearn.decomposition import PCA\n",
    "from sklearn.cross_decomposition import PLSRegression\n",
    "from sklearn.cross_decomposition import PLSRegression, PLSSVD\n",
    "\n",
    "from sklearn.model_selection import GridSearchCV\n",
    "from sklearn.metrics import mean_squared_error\n",
    "from sklearn.metrics import r2_score\n",
    "from sklearn import tree, ensemble, model_selection, metrics\n",
    "from sklearn.model_selection import GridSearchCV\n",
    "from sklearn.ensemble import RandomForestRegressor\n",
    "import xgboost as xgb\n",
    "from xgboost.sklearn import XGBRegressor\n",
    "from xgboost import plot_importance\n",
    "\n",
    "from keras.models import Sequential\n",
    "from keras.layers import Dense\n",
    "from keras.wrappers.scikit_learn import KerasRegressor\n",
    "import tensorflow as tf\n",
    "from keras.layers import Dropout"
   ]
  },
  {
   "cell_type": "markdown",
   "metadata": {},
   "source": [
    "### 2.4.1. Linear Models"
   ]
  },
  {
   "cell_type": "markdown",
   "metadata": {},
   "source": [
    "#### 2.4.1.1. Standard Linear Regression"
   ]
  },
  {
   "cell_type": "code",
   "execution_count": 73,
   "metadata": {},
   "outputs": [],
   "source": [
    "LRmodel = linear_model.LinearRegression()  #create the linear regression \n",
    "LRmodel.fit(x_train,y_train) #train the model using the training set \n",
    "LR_pred = LRmodel.predict(x_test) #use this model to predict the test data set "
   ]
  },
  {
   "cell_type": "code",
   "execution_count": 74,
   "metadata": {},
   "outputs": [
    {
     "name": "stdout",
     "output_type": "stream",
     "text": [
      "R^2 score:\t\t\t\t 0.08718551691601406\n",
      "Explained Variance: \t\t\t 0.08720498556882039\n",
      "Mean Absolute Error: \t\t\t 1.832432896843842\n",
      "Mean Squared Error:\t\t\t 5.053731900204159\n",
      "Root Mean Squared Error:\t\t 2.248050688975709\n",
      "Intercept:\t -1130589539842.875\n",
      "Coef:\t 115\n"
     ]
    }
   ],
   "source": [
    "print('R^2 score:\\t\\t\\t\\t',LRmodel.score(x_test, y_test)) #compute R^2 score \n",
    "print('Explained Variance: \\t\\t\\t', metrics.explained_variance_score(y_test, LR_pred)) #compute explained variance score\n",
    "print('Mean Absolute Error: \\t\\t\\t', metrics.mean_absolute_error(y_test, LR_pred)) #compute MAE results\n",
    "print('Mean Squared Error:\\t\\t\\t', metrics.mean_squared_error(y_test, LR_pred)) #compute MSE results\n",
    "print('Root Mean Squared Error:\\t\\t', metrics.mean_squared_error(y_test, LR_pred, squared = False)) #compute RSME results\n",
    "print('Intercept:\\t', LRmodel.intercept_) #find intercept value \n",
    "print('Coef:\\t', np.sum(LRmodel.coef_!=0))#find no of features used in regression model "
   ]
  },
  {
   "cell_type": "code",
   "execution_count": 75,
   "metadata": {},
   "outputs": [
    {
     "data": {
      "text/plain": [
       "<matplotlib.axes._subplots.AxesSubplot at 0x1ff13907190>"
      ]
     },
     "execution_count": 75,
     "metadata": {},
     "output_type": "execute_result"
    },
    {
     "data": {
      "image/png": "[encoded data removed]",
      "text/plain": [
       "<Figure size 432x288 with 1 Axes>"
      ]
     },
     "metadata": {
      "needs_background": "light"
     },
     "output_type": "display_data"
    }
   ],
   "source": [
    "sns.regplot(y_test,LR_pred) #plotting predictions "
   ]
  },
  {
   "cell_type": "code",
   "execution_count": 76,
   "metadata": {},
   "outputs": [
    {
     "name": "stdout",
     "output_type": "stream",
     "text": [
      "                            feature        VIF\n",
      "0                           NUMADLT  29.652321\n",
      "1                        YOUNGCHILD  20.897897\n",
      "2                          WRKCOUNT  61.599350\n",
      "3                            EDUC_1   6.939920\n",
      "4                            EDUC_2  23.252086\n",
      "..                              ...        ...\n",
      "110  YOUNGCHILD_ratio_more_than_0.5        inf\n",
      "111                WRKCOUNT_ratio_0        inf\n",
      "112                WRKCOUNT_ratio_1        inf\n",
      "113    WRKCOUNT_ratio_less_than_0.5        inf\n",
      "114    WRKCOUNT_ratio_more_than_0.5        inf\n",
      "\n",
      "[115 rows x 2 columns]\n"
     ]
    }
   ],
   "source": [
    "#calculate VIF scores to detect multicolinearity \n",
    "\n",
    "# VIF dataframe\n",
    "vif_data = pd.DataFrame()\n",
    "vif_data[\"feature\"] = x_train.columns\n",
    "  \n",
    "# calculating VIF for each feature\n",
    "vif_data[\"VIF\"] = [variance_inflation_factor(x_train.values, i)\n",
    "                          for i in range(len(x_train.columns))]\n",
    "  \n",
    "print(vif_data)"
   ]
  },
  {
   "cell_type": "code",
   "execution_count": 77,
   "metadata": {},
   "outputs": [
    {
     "data": {
      "text/html": [
       "<div>\n",
       "<style scoped>\n",
       "    .dataframe tbody tr th:only-of-type {\n",
       "        vertical-align: middle;\n",
       "    }\n",
       "\n",
       "    .dataframe tbody tr th {\n",
       "        vertical-align: top;\n",
       "    }\n",
       "\n",
       "    .dataframe thead th {\n",
       "        text-align: right;\n",
       "    }\n",
       "</style>\n",
       "<table border=\"1\" class=\"dataframe\">\n",
       "  <thead>\n",
       "    <tr style=\"text-align: right;\">\n",
       "      <th></th>\n",
       "      <th>feature</th>\n",
       "      <th>VIF</th>\n",
       "    </tr>\n",
       "  </thead>\n",
       "  <tbody>\n",
       "    <tr>\n",
       "      <th>114</th>\n",
       "      <td>WRKCOUNT_ratio_more_than_0.5</td>\n",
       "      <td>inf</td>\n",
       "    </tr>\n",
       "    <tr>\n",
       "      <th>81</th>\n",
       "      <td>LIF_CYC_10</td>\n",
       "      <td>inf</td>\n",
       "    </tr>\n",
       "    <tr>\n",
       "      <th>83</th>\n",
       "      <td>LIF_CYC_3</td>\n",
       "      <td>inf</td>\n",
       "    </tr>\n",
       "    <tr>\n",
       "      <th>84</th>\n",
       "      <td>LIF_CYC_4</td>\n",
       "      <td>inf</td>\n",
       "    </tr>\n",
       "    <tr>\n",
       "      <th>85</th>\n",
       "      <td>LIF_CYC_5</td>\n",
       "      <td>inf</td>\n",
       "    </tr>\n",
       "    <tr>\n",
       "      <th>...</th>\n",
       "      <td>...</td>\n",
       "      <td>...</td>\n",
       "    </tr>\n",
       "    <tr>\n",
       "      <th>54</th>\n",
       "      <td>HHFAMINC_3</td>\n",
       "      <td>2.856796</td>\n",
       "    </tr>\n",
       "    <tr>\n",
       "      <th>53</th>\n",
       "      <td>HHFAMINC_2</td>\n",
       "      <td>1.930190</td>\n",
       "    </tr>\n",
       "    <tr>\n",
       "      <th>50</th>\n",
       "      <td>HHFAMINC_1</td>\n",
       "      <td>1.742115</td>\n",
       "    </tr>\n",
       "    <tr>\n",
       "      <th>11</th>\n",
       "      <td>R_RACE_4</td>\n",
       "      <td>1.462486</td>\n",
       "    </tr>\n",
       "    <tr>\n",
       "      <th>12</th>\n",
       "      <td>R_RACE_5</td>\n",
       "      <td>1.122485</td>\n",
       "    </tr>\n",
       "  </tbody>\n",
       "</table>\n",
       "<p>115 rows × 2 columns</p>\n",
       "</div>"
      ],
      "text/plain": [
       "                          feature       VIF\n",
       "114  WRKCOUNT_ratio_more_than_0.5       inf\n",
       "81                     LIF_CYC_10       inf\n",
       "83                      LIF_CYC_3       inf\n",
       "84                      LIF_CYC_4       inf\n",
       "85                      LIF_CYC_5       inf\n",
       "..                            ...       ...\n",
       "54                     HHFAMINC_3  2.856796\n",
       "53                     HHFAMINC_2  1.930190\n",
       "50                     HHFAMINC_1  1.742115\n",
       "11                       R_RACE_4  1.462486\n",
       "12                       R_RACE_5  1.122485\n",
       "\n",
       "[115 rows x 2 columns]"
      ]
     },
     "execution_count": 77,
     "metadata": {},
     "output_type": "execute_result"
    }
   ],
   "source": [
    "vif_data.sort_values(by = 'VIF', ascending = False)"
   ]
  },
  {
   "cell_type": "code",
   "execution_count": 78,
   "metadata": {},
   "outputs": [
    {
     "name": "stdout",
     "output_type": "stream",
     "text": [
      "It contains 66 infinite values\n"
     ]
    }
   ],
   "source": [
    "# counting number of infinity features \n",
    "\n",
    "vif_data_inf = np.isinf(vif_data['VIF']).values.sum()\n",
    "print(\"It contains \" + str(vif_data_inf) + \" infinite values\")"
   ]
  },
  {
   "cell_type": "code",
   "execution_count": 79,
   "metadata": {},
   "outputs": [],
   "source": [
    "#cross validation to see if it will improve results \n",
    "\n",
    "folds = model_selection.KFold(n_splits = 5, shuffle = True, random_state = 100)\n",
    "scores = model_selection.cross_validate(LRmodel, x_train, y_train, \n",
    "                                         scoring=('r2','neg_mean_squared_error'), cv=folds)"
   ]
  },
  {
   "cell_type": "code",
   "execution_count": 80,
   "metadata": {},
   "outputs": [
    {
     "data": {
      "text/plain": [
       "{'fit_time': array([0.12167335, 0.12965298, 0.12566471, 0.11369634, 0.12167406]),\n",
       " 'score_time': array([0.01097155, 0.00997663, 0.01097035, 0.00997305, 0.00897646]),\n",
       " 'test_r2': array([0.07537586, 0.08607386, 0.08251298, 0.0729165 , 0.07735067]),\n",
       " 'test_neg_mean_squared_error': array([-5.11122182, -5.09488038, -5.12675266, -4.98344462, -5.292403  ])}"
      ]
     },
     "execution_count": 80,
     "metadata": {},
     "output_type": "execute_result"
    }
   ],
   "source": [
    "scores"
   ]
  },
  {
   "cell_type": "code",
   "execution_count": 81,
   "metadata": {},
   "outputs": [
    {
     "data": {
      "text/plain": [
       "{'fit_time': array([0.121673, 0.129653, 0.125665, 0.113696, 0.121674]),\n",
       " 'score_time': array([0.010972, 0.009977, 0.010970, 0.009973, 0.008976]),\n",
       " 'test_r2': array([0.075376, 0.086074, 0.082513, 0.072916, 0.077351]),\n",
       " 'test_neg_mean_squared_error': array([-5.111222, -5.094880, -5.126753, -4.983445, -5.292403])}"
      ]
     },
     "execution_count": 81,
     "metadata": {},
     "output_type": "execute_result"
    }
   ],
   "source": [
    "np.set_printoptions(formatter={'float_kind':'{:f}'.format})\n",
    "scores"
   ]
  },
  {
   "cell_type": "code",
   "execution_count": null,
   "metadata": {},
   "outputs": [
    {
     "name": "stdout",
     "output_type": "stream",
     "text": [
      "Fitting 5 folds for each of 115 candidates, totalling 575 fits\n",
      "[CV 1/5; 1/115] START n_features_to_select=1....................................\n",
      "[CV 1/5; 1/115] END n_features_to_select=1;, score=(train=-5.568, test=-5.528) total time=   4.5s\n",
      "[CV 2/5; 1/115] START n_features_to_select=1....................................\n",
      "[CV 2/5; 1/115] END n_features_to_select=1;, score=(train=-5.534, test=-5.548) total time=   4.2s\n",
      "[CV 3/5; 1/115] START n_features_to_select=1....................................\n",
      "[CV 3/5; 1/115] END n_features_to_select=1;, score=(train=-5.549, test=-5.579) total time=   4.2s\n",
      "[CV 4/5; 1/115] START n_features_to_select=1....................................\n",
      "[CV 4/5; 1/115] END n_features_to_select=1;, score=(train=-5.603, test=-5.379) total time=   4.4s\n",
      "[CV 5/5; 1/115] START n_features_to_select=1....................................\n",
      "[CV 5/5; 1/115] END n_features_to_select=1;, score=(train=-5.508, test=-5.747) total time=   4.1s\n",
      "[CV 1/5; 2/115] START n_features_to_select=2....................................\n",
      "[CV 1/5; 2/115] END n_features_to_select=2;, score=(train=-5.562, test=-5.522) total time=   4.4s\n",
      "[CV 2/5; 2/115] START n_features_to_select=2....................................\n",
      "[CV 2/5; 2/115] END n_features_to_select=2;, score=(train=-5.518, test=-5.538) total time=   4.3s\n",
      "[CV 3/5; 2/115] START n_features_to_select=2....................................\n",
      "[CV 3/5; 2/115] END n_features_to_select=2;, score=(train=-5.548, test=-5.577) total time=   4.6s\n",
      "[CV 4/5; 2/115] START n_features_to_select=2....................................\n",
      "[CV 4/5; 2/115] END n_features_to_select=2;, score=(train=-5.595, test=-5.374) total time=   4.2s\n",
      "[CV 5/5; 2/115] START n_features_to_select=2....................................\n",
      "[CV 5/5; 2/115] END n_features_to_select=2;, score=(train=-5.494, test=-5.723) total time=   4.3s\n",
      "[CV 1/5; 3/115] START n_features_to_select=3....................................\n",
      "[CV 1/5; 3/115] END n_features_to_select=3;, score=(train=-5.562, test=-5.522) total time=   5.0s\n",
      "[CV 2/5; 3/115] START n_features_to_select=3....................................\n",
      "[CV 2/5; 3/115] END n_features_to_select=3;, score=(train=-5.519, test=-5.538) total time=   4.0s\n",
      "[CV 3/5; 3/115] START n_features_to_select=3....................................\n",
      "[CV 3/5; 3/115] END n_features_to_select=3;, score=(train=-5.548, test=-5.578) total time=   4.4s\n",
      "[CV 4/5; 3/115] START n_features_to_select=3....................................\n",
      "[CV 4/5; 3/115] END n_features_to_select=3;, score=(train=-5.595, test=-5.373) total time=   4.1s\n",
      "[CV 5/5; 3/115] START n_features_to_select=3....................................\n",
      "[CV 5/5; 3/115] END n_features_to_select=3;, score=(train=-5.488, test=-5.717) total time=   4.8s\n",
      "[CV 1/5; 4/115] START n_features_to_select=4....................................\n",
      "[CV 1/5; 4/115] END n_features_to_select=4;, score=(train=-5.562, test=-5.522) total time=   5.4s\n",
      "[CV 2/5; 4/115] START n_features_to_select=4....................................\n",
      "[CV 2/5; 4/115] END n_features_to_select=4;, score=(train=-5.507, test=-5.528) total time=   5.2s\n",
      "[CV 3/5; 4/115] START n_features_to_select=4....................................\n",
      "[CV 3/5; 4/115] END n_features_to_select=4;, score=(train=-5.540, test=-5.573) total time=   4.7s\n",
      "[CV 4/5; 4/115] START n_features_to_select=4....................................\n",
      "[CV 4/5; 4/115] END n_features_to_select=4;, score=(train=-5.590, test=-5.361) total time=   4.1s\n",
      "[CV 5/5; 4/115] START n_features_to_select=4....................................\n",
      "[CV 5/5; 4/115] END n_features_to_select=4;, score=(train=-5.486, test=-5.715) total time=   4.1s\n",
      "[CV 1/5; 5/115] START n_features_to_select=5....................................\n",
      "[CV 1/5; 5/115] END n_features_to_select=5;, score=(train=-5.563, test=-5.523) total time=   4.3s\n",
      "[CV 2/5; 5/115] START n_features_to_select=5....................................\n",
      "[CV 2/5; 5/115] END n_features_to_select=5;, score=(train=-5.502, test=-5.533) total time=   4.1s\n",
      "[CV 3/5; 5/115] START n_features_to_select=5....................................\n",
      "[CV 3/5; 5/115] END n_features_to_select=5;, score=(train=-5.538, test=-5.564) total time=   3.8s\n",
      "[CV 4/5; 5/115] START n_features_to_select=5....................................\n",
      "[CV 4/5; 5/115] END n_features_to_select=5;, score=(train=-5.589, test=-5.359) total time=   4.1s\n",
      "[CV 5/5; 5/115] START n_features_to_select=5....................................\n",
      "[CV 5/5; 5/115] END n_features_to_select=5;, score=(train=-5.484, test=-5.716) total time=   4.5s\n",
      "[CV 1/5; 6/115] START n_features_to_select=6....................................\n",
      "[CV 1/5; 6/115] END n_features_to_select=6;, score=(train=-5.550, test=-5.519) total time=   4.0s\n",
      "[CV 2/5; 6/115] START n_features_to_select=6....................................\n",
      "[CV 2/5; 6/115] END n_features_to_select=6;, score=(train=-5.495, test=-5.522) total time=   3.8s\n",
      "[CV 3/5; 6/115] START n_features_to_select=6....................................\n",
      "[CV 3/5; 6/115] END n_features_to_select=6;, score=(train=-5.538, test=-5.564) total time=   4.0s\n",
      "[CV 4/5; 6/115] START n_features_to_select=6....................................\n",
      "[CV 4/5; 6/115] END n_features_to_select=6;, score=(train=-5.589, test=-5.359) total time=   5.0s\n",
      "[CV 5/5; 6/115] START n_features_to_select=6....................................\n",
      "[CV 5/5; 6/115] END n_features_to_select=6;, score=(train=-5.483, test=-5.715) total time=   3.9s\n",
      "[CV 1/5; 7/115] START n_features_to_select=7....................................\n",
      "[CV 1/5; 7/115] END n_features_to_select=7;, score=(train=-5.549, test=-5.518) total time=   4.0s\n",
      "[CV 2/5; 7/115] START n_features_to_select=7....................................\n",
      "[CV 2/5; 7/115] END n_features_to_select=7;, score=(train=-5.491, test=-5.520) total time=   5.3s\n",
      "[CV 3/5; 7/115] START n_features_to_select=7....................................\n",
      "[CV 3/5; 7/115] END n_features_to_select=7;, score=(train=-5.525, test=-5.535) total time=   5.0s\n",
      "[CV 4/5; 7/115] START n_features_to_select=7....................................\n",
      "[CV 4/5; 7/115] END n_features_to_select=7;, score=(train=-5.590, test=-5.359) total time=   4.8s\n",
      "[CV 5/5; 7/115] START n_features_to_select=7....................................\n",
      "[CV 5/5; 7/115] END n_features_to_select=7;, score=(train=-5.483, test=-5.713) total time=   5.1s\n",
      "[CV 1/5; 8/115] START n_features_to_select=8....................................\n",
      "[CV 1/5; 8/115] END n_features_to_select=8;, score=(train=-5.548, test=-5.516) total time=   5.0s\n",
      "[CV 2/5; 8/115] START n_features_to_select=8....................................\n",
      "[CV 2/5; 8/115] END n_features_to_select=8;, score=(train=-5.486, test=-5.518) total time=   4.8s\n",
      "[CV 3/5; 8/115] START n_features_to_select=8....................................\n",
      "[CV 3/5; 8/115] END n_features_to_select=8;, score=(train=-5.520, test=-5.530) total time=   5.0s\n",
      "[CV 4/5; 8/115] START n_features_to_select=8....................................\n",
      "[CV 4/5; 8/115] END n_features_to_select=8;, score=(train=-5.584, test=-5.351) total time=   5.4s\n",
      "[CV 5/5; 8/115] START n_features_to_select=8....................................\n",
      "[CV 5/5; 8/115] END n_features_to_select=8;, score=(train=-5.482, test=-5.714) total time=   4.5s\n",
      "[CV 1/5; 9/115] START n_features_to_select=9....................................\n",
      "[CV 1/5; 9/115] END n_features_to_select=9;, score=(train=-5.549, test=-5.517) total time=   4.2s\n",
      "[CV 2/5; 9/115] START n_features_to_select=9....................................\n",
      "[CV 2/5; 9/115] END n_features_to_select=9;, score=(train=-5.482, test=-5.509) total time=   4.8s\n",
      "[CV 3/5; 9/115] START n_features_to_select=9....................................\n",
      "[CV 3/5; 9/115] END n_features_to_select=9;, score=(train=-5.518, test=-5.524) total time=   4.2s\n",
      "[CV 4/5; 9/115] START n_features_to_select=9....................................\n",
      "[CV 4/5; 9/115] END n_features_to_select=9;, score=(train=-5.579, test=-5.343) total time=   3.7s\n",
      "[CV 5/5; 9/115] START n_features_to_select=9....................................\n",
      "[CV 5/5; 9/115] END n_features_to_select=9;, score=(train=-5.482, test=-5.714) total time=   3.7s\n",
      "[CV 1/5; 10/115] START n_features_to_select=10..................................\n"
     ]
    },
    {
     "name": "stdout",
     "output_type": "stream",
     "text": [
      "[CV 1/5; 10/115] END n_features_to_select=10;, score=(train=-5.542, test=-5.515) total time=   4.0s\n",
      "[CV 2/5; 10/115] START n_features_to_select=10..................................\n",
      "[CV 2/5; 10/115] END n_features_to_select=10;, score=(train=-5.478, test=-5.507) total time=   4.2s\n",
      "[CV 3/5; 10/115] START n_features_to_select=10..................................\n",
      "[CV 3/5; 10/115] END n_features_to_select=10;, score=(train=-5.517, test=-5.520) total time=   4.1s\n",
      "[CV 4/5; 10/115] START n_features_to_select=10..................................\n",
      "[CV 4/5; 10/115] END n_features_to_select=10;, score=(train=-5.574, test=-5.347) total time=   4.1s\n",
      "[CV 5/5; 10/115] START n_features_to_select=10..................................\n",
      "[CV 5/5; 10/115] END n_features_to_select=10;, score=(train=-5.485, test=-5.710) total time=   4.6s\n",
      "[CV 1/5; 11/115] START n_features_to_select=11..................................\n",
      "[CV 1/5; 11/115] END n_features_to_select=11;, score=(train=-5.536, test=-5.509) total time=   4.8s\n",
      "[CV 2/5; 11/115] START n_features_to_select=11..................................\n",
      "[CV 2/5; 11/115] END n_features_to_select=11;, score=(train=-5.476, test=-5.502) total time=   4.5s\n",
      "[CV 3/5; 11/115] START n_features_to_select=11..................................\n",
      "[CV 3/5; 11/115] END n_features_to_select=11;, score=(train=-5.516, test=-5.522) total time=   4.3s\n",
      "[CV 4/5; 11/115] START n_features_to_select=11..................................\n",
      "[CV 4/5; 11/115] END n_features_to_select=11;, score=(train=-5.570, test=-5.351) total time=   4.3s\n",
      "[CV 5/5; 11/115] START n_features_to_select=11..................................\n",
      "[CV 5/5; 11/115] END n_features_to_select=11;, score=(train=-5.458, test=-5.697) total time=   4.1s\n",
      "[CV 1/5; 12/115] START n_features_to_select=12..................................\n",
      "[CV 1/5; 12/115] END n_features_to_select=12;, score=(train=-5.535, test=-5.503) total time=   3.9s\n",
      "[CV 2/5; 12/115] START n_features_to_select=12..................................\n",
      "[CV 2/5; 12/115] END n_features_to_select=12;, score=(train=-5.476, test=-5.502) total time=   4.1s\n",
      "[CV 3/5; 12/115] START n_features_to_select=12..................................\n",
      "[CV 3/5; 12/115] END n_features_to_select=12;, score=(train=-5.515, test=-5.521) total time=   4.2s\n",
      "[CV 4/5; 12/115] START n_features_to_select=12..................................\n",
      "[CV 4/5; 12/115] END n_features_to_select=12;, score=(train=-5.562, test=-5.348) total time=   4.0s\n",
      "[CV 5/5; 12/115] START n_features_to_select=12..................................\n",
      "[CV 5/5; 12/115] END n_features_to_select=12;, score=(train=-5.457, test=-5.696) total time=   3.8s\n",
      "[CV 1/5; 13/115] START n_features_to_select=13..................................\n",
      "[CV 1/5; 13/115] END n_features_to_select=13;, score=(train=-5.530, test=-5.506) total time=   4.3s\n",
      "[CV 2/5; 13/115] START n_features_to_select=13..................................\n",
      "[CV 2/5; 13/115] END n_features_to_select=13;, score=(train=-5.476, test=-5.502) total time=   3.9s\n",
      "[CV 3/5; 13/115] START n_features_to_select=13..................................\n",
      "[CV 3/5; 13/115] END n_features_to_select=13;, score=(train=-5.518, test=-5.525) total time=   3.8s\n",
      "[CV 4/5; 13/115] START n_features_to_select=13..................................\n",
      "[CV 4/5; 13/115] END n_features_to_select=13;, score=(train=-5.560, test=-5.350) total time=   3.9s\n",
      "[CV 5/5; 13/115] START n_features_to_select=13..................................\n",
      "[CV 5/5; 13/115] END n_features_to_select=13;, score=(train=-5.454, test=-5.694) total time=   4.0s\n",
      "[CV 1/5; 14/115] START n_features_to_select=14..................................\n",
      "[CV 1/5; 14/115] END n_features_to_select=14;, score=(train=-5.523, test=-5.503) total time=   4.0s\n",
      "[CV 2/5; 14/115] START n_features_to_select=14..................................\n",
      "[CV 2/5; 14/115] END n_features_to_select=14;, score=(train=-5.476, test=-5.502) total time=   4.0s\n",
      "[CV 3/5; 14/115] START n_features_to_select=14..................................\n",
      "[CV 3/5; 14/115] END n_features_to_select=14;, score=(train=-5.517, test=-5.524) total time=   3.9s\n",
      "[CV 4/5; 14/115] START n_features_to_select=14..................................\n",
      "[CV 4/5; 14/115] END n_features_to_select=14;, score=(train=-5.561, test=-5.353) total time=   3.9s\n",
      "[CV 5/5; 14/115] START n_features_to_select=14..................................\n",
      "[CV 5/5; 14/115] END n_features_to_select=14;, score=(train=-5.446, test=-5.692) total time=   3.8s\n",
      "[CV 1/5; 15/115] START n_features_to_select=15..................................\n",
      "[CV 1/5; 15/115] END n_features_to_select=15;, score=(train=-5.519, test=-5.500) total time=   3.8s\n",
      "[CV 2/5; 15/115] START n_features_to_select=15..................................\n",
      "[CV 2/5; 15/115] END n_features_to_select=15;, score=(train=-5.474, test=-5.498) total time=   3.9s\n",
      "[CV 3/5; 15/115] START n_features_to_select=15..................................\n",
      "[CV 3/5; 15/115] END n_features_to_select=15;, score=(train=-5.495, test=-5.493) total time=   4.2s\n",
      "[CV 4/5; 15/115] START n_features_to_select=15..................................\n",
      "[CV 4/5; 15/115] END n_features_to_select=15;, score=(train=-5.542, test=-5.335) total time=   3.8s\n",
      "[CV 5/5; 15/115] START n_features_to_select=15..................................\n",
      "[CV 5/5; 15/115] END n_features_to_select=15;, score=(train=-5.439, test=-5.689) total time=   4.0s\n",
      "[CV 1/5; 16/115] START n_features_to_select=16..................................\n",
      "[CV 1/5; 16/115] END n_features_to_select=16;, score=(train=-5.520, test=-5.502) total time=   3.9s\n",
      "[CV 2/5; 16/115] START n_features_to_select=16..................................\n",
      "[CV 2/5; 16/115] END n_features_to_select=16;, score=(train=-5.477, test=-5.505) total time=   4.0s\n",
      "[CV 3/5; 16/115] START n_features_to_select=16..................................\n",
      "[CV 3/5; 16/115] END n_features_to_select=16;, score=(train=-5.495, test=-5.490) total time=   4.0s\n",
      "[CV 4/5; 16/115] START n_features_to_select=16..................................\n",
      "[CV 4/5; 16/115] END n_features_to_select=16;, score=(train=-5.530, test=-5.333) total time=   4.0s\n",
      "[CV 5/5; 16/115] START n_features_to_select=16..................................\n",
      "[CV 5/5; 16/115] END n_features_to_select=16;, score=(train=-5.439, test=-5.688) total time=   4.0s\n",
      "[CV 1/5; 17/115] START n_features_to_select=17..................................\n",
      "[CV 1/5; 17/115] END n_features_to_select=17;, score=(train=-5.520, test=-5.501) total time=   4.0s\n",
      "[CV 2/5; 17/115] START n_features_to_select=17..................................\n",
      "[CV 2/5; 17/115] END n_features_to_select=17;, score=(train=-5.475, test=-5.498) total time=   4.0s\n",
      "[CV 3/5; 17/115] START n_features_to_select=17..................................\n"
     ]
    }
   ],
   "source": [
    "start_time = time.time()\n",
    "#specify range of hyperparameters to tune\n",
    "hyper_params = [{'n_features_to_select': list(range(1,116))}]\n",
    "\n",
    "\n",
    "# perform grid search\n",
    "\n",
    "rfe = RFE(LRmodel)             \n",
    "\n",
    "# 3.2 call GridSearchCV()\n",
    "model_cv = model_selection.GridSearchCV(estimator = rfe, \n",
    "                        param_grid = hyper_params, \n",
    "                        scoring= 'neg_mean_squared_error', \n",
    "                        cv = folds, \n",
    "                        verbose = 10,\n",
    "                        return_train_score=True)      \n",
    "\n",
    "# fit the model\n",
    "model_cv.fit(x_train, y_train)   \n",
    "\n",
    "print(\"run time:\", str(time.time()-start_time), \"start time:\", str(start_time), \"end time\",str(time.time()))"
   ]
  },
  {
   "cell_type": "code",
   "execution_count": null,
   "metadata": {},
   "outputs": [],
   "source": [
    "#grid_search.fit(train_features, train_labels)\n",
    "print(model_cv.best_params_)\n",
    "\n",
    "print(model_cv.best_estimator_)\n",
    "print(model_cv.best_score_)\n",
    "\n",
    "model_cv_y_pred_rfgs = model_cv.predict(x_test)\n",
    "model_cv_rmse = np.sqrt(metrics.mean_squared_error(y_test, model_cv_y_pred_rfgs))\n",
    "print(\"RMSE: %f\" % (model_cv_rmse))\n",
    "\n",
    "print(\"Mean squared error: %.2f\"\n",
    "      % metrics.mean_squared_error(y_test, model_cv_y_pred_rfgs))\n",
    "# Explained variance score: 1 is perfect prediction\n",
    "print('R2 score: %.2f' % metrics.r2_score(y_test, model_cv_y_pred_rfgs))"
   ]
  },
  {
   "cell_type": "code",
   "execution_count": null,
   "metadata": {},
   "outputs": [],
   "source": [
    "# cv results\n",
    "cv_results = pd.DataFrame(model_cv.cv_results_)\n",
    "cv_results"
   ]
  },
  {
   "cell_type": "code",
   "execution_count": null,
   "metadata": {},
   "outputs": [],
   "source": [
    "# plotting cv results\n",
    "plt.figure(figsize=(16,6))\n",
    "\n",
    "plt.plot(cv_results[\"param_n_features_to_select\"], cv_results[\"mean_test_score\"])\n",
    "#plt.plot(cv_results[\"param_n_features_to_select\"], cv_results[\"mean_train_score\"])\n",
    "plt.xlabel('number of features')\n",
    "plt.ylabel('r-squared')\n",
    "plt.title(\"Optimal Number of Features\")\n",
    "plt.legend(['test score', 'train score'], loc='upper left')"
   ]
  },
  {
   "cell_type": "markdown",
   "metadata": {},
   "source": [
    "#### 2.4.1.2 Linear Regression - Regularisation"
   ]
  },
  {
   "cell_type": "markdown",
   "metadata": {},
   "source": [
    "**Lasso Regularisation**"
   ]
  },
  {
   "cell_type": "code",
   "execution_count": null,
   "metadata": {},
   "outputs": [],
   "source": [
    "start_time = time.time()\n",
    "alpha = [0.0001, 0.001, 0.005, 0.01]\n",
    "\n",
    "for i in range(4):\n",
    "    #build lasso regressor model here\n",
    "    lasso = linear_model.Lasso(alpha=alpha[i])\n",
    "    lasso.fit(x_train, y_train) #fit a lasso regression on the training data\n",
    "    y_predlasso = lasso.predict(x_test) #use this model to predict the test data\n",
    "    lasso_mse = metrics.mean_squared_error(y_test, y_predlasso) #calculate the test MSE\n",
    "    lasso_rmse = metrics.mean_squared_error(y_test, y_predlasso,squared = False) #calculate the test RMSE\n",
    "    msemanual = np.mean((y_predlasso-y_test)**2) #calculate mse manually to cross validate\n",
    "    lasso_cplxy = (np.sum(abs(lasso.coef_))) #calculate l1norm / model complexity\n",
    "    \n",
    "    print('-' * 32)\n",
    "    print('lasso with alpha', alpha[i])\n",
    "    print('-' * 32)\n",
    "    print('\\nTrain score:', round(lasso.score(x_train, y_train), 3)) #compute train R^2 score\n",
    "    print('Test score:', round(lasso.score(x_test, y_test), 3)) #compute test R^2 score\n",
    "    print(list(map(lambda x: round(x, 3), lasso.coef_))) #list out the coef values \n",
    "    print('-' * 32)\n",
    "    print('MSE on test set:', lasso_mse) #compute MSE results\n",
    "    print('Manual MSE on test set:',msemanual) #compute MSE results\n",
    "    print('RMSE on test set:', lasso_rmse) #compute RMSE results\n",
    "    print('model complexity:', lasso_cplxy) #compute L1 NOMR score\n",
    "    print('regularized cost:', lasso_mse + alpha[i] * lasso_cplxy) #compute regularised cost function scores\n",
    "    print('\\n')\n",
    "print(\"run time:\", str(time.time()-start_time), \"start time:\", str(start_time), \"end time\",str(time.time()))   "
   ]
  },
  {
   "cell_type": "markdown",
   "metadata": {},
   "source": [
    "**Ridge Regularisation**"
   ]
  },
  {
   "cell_type": "code",
   "execution_count": null,
   "metadata": {},
   "outputs": [],
   "source": [
    "start_time = time.time()\n",
    "ridgealpha = [0.001, 0.01, 0.1, 1]\n",
    "\n",
    "for i in range(4):\n",
    "    #build ridge regressor here\n",
    "    ridge = linear_model.Ridge(alpha=ridgealpha[i])\n",
    "    ridge.fit(x_train, y_train) #fit a ridge regression on the training data\n",
    "    y_pred_ridge = ridge.predict(x_test) #use this model to predict the test data\n",
    "    ridge_mse = metrics.mean_squared_error(y_test, y_pred_ridge) #calculate the test mse\n",
    "    ridge_rmse = metrics.mean_squared_error(y_test, y_pred_ridge,squared = False) #calculate the test rmse\n",
    "    ridge_cplxy = (np.linalg.norm(ridge.coef_)) #calculate l2norm / model complexity\n",
    "    \n",
    "    print('-' * 32)\n",
    "    print('ridge with alpha', ridgealpha[i])\n",
    "    print('-' * 32)\n",
    "    print('\\nTrain score:', round(ridge.score(x_train, y_train), 3))\n",
    "    print('Test score:', round(ridge.score(x_test, y_test), 3))\n",
    "    print(list(map(lambda x: round(x, 3), ridge.coef_)))\n",
    "    print('-' * 32)\n",
    "    print('MSE on test set:', ridge_mse)\n",
    "    print('RMSE on test set:', ridge_rmse)\n",
    "    print('model complexity:', ridge_cplxy)\n",
    "    print('regularized cost:', ridge_mse + ridgealpha[i] * ridge_cplxy)\n",
    "    print('\\n')\n",
    "print(\"run time:\", str(time.time()-start_time), \"start time:\", str(start_time), \"end time\",str(time.time()))"
   ]
  },
  {
   "cell_type": "markdown",
   "metadata": {},
   "source": [
    "### 2.4.1.3. Principal Component Regression"
   ]
  },
  {
   "cell_type": "code",
   "execution_count": null,
   "metadata": {},
   "outputs": [],
   "source": [
    "pca = PCA()\n",
    "x_reduced = pca.fit_transform(scale(x_train))"
   ]
  },
  {
   "cell_type": "code",
   "execution_count": null,
   "metadata": {},
   "outputs": [],
   "source": [
    "pd.DataFrame(pca.components_.T).loc[:4,:5]\n",
    "#pd.DataFrame(pca.components_.T)"
   ]
  },
  {
   "cell_type": "code",
   "execution_count": null,
   "metadata": {},
   "outputs": [],
   "source": [
    "# 5-fold CV, with shuffle\n",
    "kf_5 = model_selection.KFold(n_splits=10, shuffle=True, random_state=100) \n",
    "\n",
    "pcascores = model_selection.cross_validate(LRmodel, x_reduced, y_train, \n",
    "                                           scoring=('r2','neg_mean_squared_error'), cv=kf_5)"
   ]
  },
  {
   "cell_type": "code",
   "execution_count": null,
   "metadata": {},
   "outputs": [],
   "source": [
    "pcascores"
   ]
  },
  {
   "cell_type": "markdown",
   "metadata": {},
   "source": [
    "## 2.4.2. Ensemble Models"
   ]
  },
  {
   "cell_type": "markdown",
   "metadata": {},
   "source": [
    "### 2.4.2.1. Random Forest"
   ]
  },
  {
   "cell_type": "code",
   "execution_count": null,
   "metadata": {},
   "outputs": [],
   "source": [
    "# Create the parameter grid based on the results of random search \n",
    "param_grid = {\n",
    "    'bootstrap': [True],\n",
    "    'max_features': [18, 21, 24],\n",
    "    'oob_score': [True],\n",
    "    'n_estimators': [2250, 2500, 2750]\n",
    "}\n",
    "\n",
    "# Create a based model\n",
    "rfgs = RandomForestRegressor()\n",
    "# Instantiate the grid search model\n",
    "grid_search = GridSearchCV(estimator = rfgs, param_grid = param_grid, cv = 3, n_jobs = 3, verbose = 10)\n",
    "#wrapper_gs = RegressorChain(grid_search)\n",
    "grid_search.fit(x_train, y_train)\n",
    "\n",
    "#grid_search.fit(train_features, train_labels)\n",
    "print(grid_search.best_params_)\n",
    "\n",
    "print(grid_search.best_estimator_)\n",
    "print(grid_search.best_score_)\n",
    "\n",
    "y_pred_rfgs = grid_search.predict(x_test)\n",
    "rmse = np.sqrt(mean_squared_error(y_test, y_pred_rfgs))\n",
    "print(\"RMSE: %f\" % (rmse))\n",
    "\n",
    "print(\"Mean squared error: %.2f\"\n",
    "      % mean_squared_error(y_test, y_pred_rfgs))\n",
    "# Explained variance score: 1 is perfect prediction\n",
    "print('R2 score: %.2f' % r2_score(y_test, y_pred_rfgs))"
   ]
  },
  {
   "cell_type": "markdown",
   "metadata": {},
   "source": [
    "### 2.4.2.2.Adaboost"
   ]
  },
  {
   "cell_type": "code",
   "execution_count": null,
   "metadata": {},
   "outputs": [],
   "source": [
    "ada2=ensemble.AdaBoostRegressor(tree.DecisionTreeRegressor(), random_state = 888)\n",
    "\n",
    "parameters ={\n",
    "    'n_estimators':[400, 500, 600],\n",
    "    'learning_rate':[0.01, 0.1],\n",
    "    'base_estimator__max_depth':[12, 15, 20]\n",
    "}\n",
    "\n",
    "grid_ADA = GridSearchCV(estimator=ada2, param_grid=parameters, scoring='neg_mean_squared_error',n_jobs=3, cv=3, verbose=10)\n",
    "grid_ADA.fit(x_train, y_train)\n",
    "\n",
    " \n",
    "\n",
    "print(\" Results from Grid Search \" )\n",
    "print(\"\\n The best estimator across ALL searched params:\\n\",grid_ADA.best_estimator_)\n",
    "print(\"\\n The best score across ALL searched params:\\n\",grid_ADA.best_score_)\n",
    "print(\"\\n The best parameters across ALL searched params:\\n\",grid_ADA.best_params_)\n",
    "\n",
    "#print(\"\\n The best accuracy across ALL searched params:\\n\",evaluate(best_grid, x_test, y_test_one))\n",
    "\n",
    " \n",
    "\n",
    "y_pred_ADA = grid_ADA.predict(x_test)\n",
    "rmse = np.sqrt(mean_squared_error(y_test, y_pred_ADA))\n",
    "print(\"RMSE: %f\" % (rmse))\n",
    "print(\"Mean squared error: %.2f\" % mean_squared_error(y_test, y_pred_ADA))\n",
    "# Explained variance score: 1 is perfect prediction\n",
    "print('R2 score: %.2f' % r2_score(y_test, y_pred_ADA))"
   ]
  },
  {
   "cell_type": "markdown",
   "metadata": {},
   "source": [
    "### 2.4.2.3. Gradient Boosting Regressor"
   ]
  },
  {
   "cell_type": "code",
   "execution_count": null,
   "metadata": {},
   "outputs": [],
   "source": [
    "GBR = ensemble.GradientBoostingRegressor(random_state = 888)\n",
    "\n",
    "parameters = {\n",
    "    'learning_rate': [0.1, 0.2],\n",
    "    'n_estimators' : [180, 200, 225],\n",
    "    'max_depth'    : [5, 6, 8]\n",
    "}\n",
    "\n",
    " \n",
    "\n",
    "grid_GBR = GridSearchCV(estimator=GBR, param_grid = parameters, cv = 3, n_jobs=-1, verbose = 10)\n",
    "grid_GBR.fit(x_train, y_train)\n",
    "\n",
    "print(\" Results from Grid Search \" )\n",
    "print(\"\\n The best estimator across ALL searched params:\\n\",grid_GBR.best_estimator_)\n",
    "print(\"\\n The best score across ALL searched params:\\n\",grid_GBR.best_score_)\n",
    "print(\"\\n The best parameters across ALL searched params:\\n\",grid_GBR.best_params_)\n",
    "\n",
    "#print(\"\\n The best accuracy across ALL searched params:\\n\",evaluate(best_grid, x_test, y_test_one))\n",
    "\n",
    "\n",
    "y_pred_GBR = grid_GBR.predict(x_test)\n",
    "rmse = np.sqrt(mean_squared_error(y_test, y_pred_GBR))\n",
    "\n",
    "print(\"RMSE: %f\" % (rmse))\n",
    "print(\"Mean squared error: %.2f\" % mean_squared_error(y_test, y_pred_GBR))\n",
    "\n",
    "# Explained variance score: 1 is perfect prediction\n",
    "print('R2 score: %.4f' % r2_score(y_test, y_pred_GBR))"
   ]
  },
  {
   "cell_type": "markdown",
   "metadata": {},
   "source": [
    "### 2.4.2.4 XGBoost"
   ]
  },
  {
   "cell_type": "code",
   "execution_count": null,
   "metadata": {},
   "outputs": [],
   "source": [
    "xgb1 = XGBRegressor()\n",
    "parameters = {'nthread':[4], #when use hyperthread, xgboost may become slower\n",
    "              'objective':['reg:squarederror'],\n",
    "              'learning_rate': [0.001, 0.01, 0.03], #so called `eta` value\n",
    "              'max_depth': [11,13,15],\n",
    "              'min_child_weight': [4],\n",
    "              'verbosity': [0],\n",
    "              'subsample': [0.7],\n",
    "              'colsample_bytree': [0.7],\n",
    "              'n_estimators': [700, 800, 900]}\n",
    "\n",
    "grid_xgb = GridSearchCV(estimator = xgb1,\n",
    "                        param_grid = parameters,\n",
    "                        cv = 3,\n",
    "                        n_jobs = 3,\n",
    "                        verbose=3)\n",
    "\n",
    "grid_xgb.fit(x_train,\n",
    "         y_train)\n",
    "\n",
    "print(\" Results from Grid Search \" )\n",
    "print(\"\\n The best estimator across ALL searched params:\\n\",grid_xgb.best_estimator_)\n",
    "print(\"\\n The best score across ALL searched params:\\n\",grid_xgb.best_score_)\n",
    "print(\"\\n The best parameters across ALL searched params:\\n\",grid_xgb.best_params_)\n",
    "\n",
    "#print(\"\\n The best accuracy across ALL searched params:\\n\",evaluate(best_grid, x_test, y_test_one))\n",
    "\n",
    "\n",
    "y_pred_xgb = grid_xgb.predict(x_test)\n",
    "rmse = np.sqrt(mean_squared_error(y_test, y_pred_xgb))\n",
    "\n",
    "print(\"RMSE: %f\" % (rmse))\n",
    "print(\"Mean squared error: %.2f\" % mean_squared_error(y_test, y_pred_xgb))\n",
    "\n",
    "# Explained variance score: 1 is perfect prediction\n",
    "print('R2 score: %.4f' % r2_score(y_test, y_pred_xgb))"
   ]
  },
  {
   "cell_type": "code",
   "execution_count": null,
   "metadata": {},
   "outputs": [],
   "source": [
    "best_xg = grid_xgb.best_estimator_\n",
    "#best_xg.feature_importances_\n",
    "plot_importance(best_xg,max_num_features =10,importance_type = 'gain')\n",
    "plt.show()"
   ]
  },
  {
   "cell_type": "markdown",
   "metadata": {},
   "source": [
    "### 2.4.3. Neural Network"
   ]
  },
  {
   "cell_type": "code",
   "execution_count": null,
   "metadata": {},
   "outputs": [],
   "source": [
    "def create_model_deep(input_shape,learn_rate,dropout_rate, layers,kernel_reg): #name,my_feature_layer,dropout_rate, layers):\n",
    "    model = tf.keras.models.Sequential()#name = name)\n",
    "    model.add(tf.keras.Input(shape=(input_shape,)))\n",
    "    #model.add(my_feature_layer)\n",
    "    for index, layer in enumerate(layers):\n",
    "        model.add(tf.keras.layers.Dense(units = layer,\n",
    "                                        activation = 'relu',\n",
    "                                        kernel_regularizer=kernel_reg,\n",
    "                                        name=f'Hidden{index}'))\n",
    "    model.add(Dropout(dropout_rate))  \n",
    "    model.add(tf.keras.layers.Dense(units=1, name='Output'))  \n",
    "    model.compile(optimizer=tf.keras.optimizers.Adam(lr=learn_rate),\n",
    "                  loss=\"mean_squared_error\",\n",
    "                  metrics=[tf.keras.metrics.MeanSquaredError()])\n",
    "    return model"
   ]
  },
  {
   "cell_type": "code",
   "execution_count": null,
   "metadata": {},
   "outputs": [],
   "source": [
    "input_shape = [x_train.shape[1]]\n",
    "learn_rate = ((0.001),(0.01),(0.1))\n",
    "batch_size = ((128,),(256,))\n",
    "dropout_rate = ((0.1),(0),(0.2))\n",
    "name = ['deep']\n",
    "kernel_reg = ((tf.keras.regularizers.l2(0.04)),('glorot_uniform'))\n",
    "layers = ((64,32,16,8),(64,16,8,4),(64,32,16,8,4),(30,20,10,8))\n",
    "\n",
    " \n",
    "param_grid = dict(input_shape = input_shape,\n",
    "                  learn_rate = learn_rate,\n",
    "                  dropout_rate = dropout_rate,\n",
    "                  layers = layers,\n",
    "                  kernel_reg = kernel_reg)\n",
    "\n",
    "    \n",
    "model_deep = KerasRegressor(build_fn = create_model_deep, epochs = 1000, batch_size = 256, verbose =10)\n",
    "nn_grid = GridSearchCV(estimator = model_deep, param_grid = param_grid, n_jobs = 3, scoring='neg_mean_squared_error',verbose =5, cv = model_selection.KFold(n_splits = 5, shuffle = True, random_state = 888))\n",
    "nn_grid_result = nn_grid.fit(x_train, y_train)\n",
    "best_nn = nn_grid.best_estimator_"
   ]
  },
  {
   "cell_type": "code",
   "execution_count": null,
   "metadata": {},
   "outputs": [],
   "source": [
    "predictions = best_nn.predict(x_test)\n",
    "mse = metrics.mean_squared_error(y_test,predictions)\n",
    "rmse = np.sqrt(mse)\n",
    "rsquare = r2_score(y_test, predictions)\n",
    "\n",
    "print('Model Preformance')\n",
    "print('rmse',rmse)\n",
    "print('mse',mse)\n",
    "print('R square:', rsquare)"
   ]
  },
  {
   "cell_type": "code",
   "execution_count": null,
   "metadata": {},
   "outputs": [],
   "source": [
    "nn_grid_result.best_params_"
   ]
  },
  {
   "cell_type": "markdown",
   "metadata": {},
   "source": [
    "| X_Train | Linear - Lasso | Ensemble - XGBoost | Nerual Network | \n",
    "|---|---|---|---|\n",
    "| MSE  | 5.07 | 4.89 | 5.08 |\n",
    "| RMSE | 2.24 | 2.21 | 2.25 | \n",
    "| R-Square| 0.087 | 0.117 | 0.083 | "
   ]
  },
  {
   "cell_type": "markdown",
   "metadata": {},
   "source": [
    "Overall, models did not perform well, with the best model being the XGBoost Performing at R2 of 0.117 and RMSE of 2.21. \n",
    "\n",
    "As such need for future exploration/feature engineering to improve models."
   ]
  },
  {
   "cell_type": "markdown",
   "metadata": {},
   "source": [
    "##  2.5. Trips"
   ]
  },
  {
   "cell_type": "markdown",
   "metadata": {},
   "source": [
    "### 2.5.1. EDA"
   ]
  },
  {
   "cell_type": "code",
   "execution_count": null,
   "metadata": {},
   "outputs": [],
   "source": [
    "ny_trips_summary = ny_trip['WHYTRP90'].value_counts().reset_index()\n",
    "ny_trips_summary = ny_trips_summary.rename(columns = {'WHYTRP90':'count'})\n",
    "ny_trips_summary['Trip Purpose'] = 'NA'\n",
    "ny_trips_summary.loc[ny_trips_summary['index']==1,'Trip Purpose'] = \"To/From Work\"\n",
    "ny_trips_summary.loc[ny_trips_summary['index']==2,'Trip Purpose'] = \"Work-Related\"\n",
    "ny_trips_summary.loc[ny_trips_summary['index']==3,'Trip Purpose'] = \"Shopping\"\n",
    "ny_trips_summary.loc[ny_trips_summary['index']==4,'Trip Purpose'] = \"Family/Personal Trip\"\n",
    "ny_trips_summary.loc[ny_trips_summary['index']==5,'Trip Purpose'] = \"School/ Church\"\n",
    "ny_trips_summary.loc[ny_trips_summary['index']==6,'Trip Purpose'] = \"Medical/Dental\"\n",
    "ny_trips_summary.loc[ny_trips_summary['index']==8,'Trip Purpose'] = \"Visit Relatives\"\n",
    "ny_trips_summary.loc[ny_trips_summary['index']==10,'Trip Purpose'] = \"Social/Recreational\"\n",
    "ny_trips_summary.loc[ny_trips_summary['index'].isin([11,99]),'Trip Purpose'] = \"Other\"\n",
    "\n",
    "ny_trips_summary = ny_trips_summary[['Trip Purpose','count']].groupby('Trip Purpose').sum().reset_index()\n",
    "order = [\"Shopping\",\"Social/Recreational\",\"Family/Personal Trip\",\"To/From Work\",\"Visit Relatives\",\"School/ Church\",\"Medical/Dental\",\"Work-Related\",\"Other\"]\n",
    "\n",
    "sns.barplot(data = ny_trips_summary, x= 'Trip Purpose', y = 'count',order = order)\n",
    "plt.xticks(rotation=30)\n",
    "plt.title('Count of Car Trips by Purpose')"
   ]
  },
  {
   "cell_type": "markdown",
   "metadata": {},
   "source": [
    "As majority of car trips were for more social reasons such as Shopping, recreations, family trips, the group then explored using the trips data."
   ]
  },
  {
   "cell_type": "code",
   "execution_count": null,
   "metadata": {},
   "outputs": [],
   "source": [
    "trips_data = ny_trip[['HOUSEID','PERSONID','WHYTRP90','TRPMILES']]\n",
    "trips_data =trips_data[trips_data['WHYTRP90'].isin([1,10,4,3,8,5])]\n",
    "# top why trips are [3,10,4,1,8,5]"
   ]
  },
  {
   "cell_type": "code",
   "execution_count": null,
   "metadata": {},
   "outputs": [],
   "source": [
    "trips_data['round_dist']= trips_data['TRPMILES'].apply(lambda x: math.floor(x))\n",
    "trips_data['trip_dist'] = pd.qcut(trips_data['round_dist'],5)\n",
    "cat_col_prop(trips_data,'trip_dist')"
   ]
  },
  {
   "cell_type": "code",
   "execution_count": null,
   "metadata": {},
   "outputs": [],
   "source": [
    "trip_summary = trips_data[['HOUSEID','PERSONID','WHYTRP90','trip_dist']].groupby(['HOUSEID','PERSONID','WHYTRP90'])['trip_dist'].apply(pd.Series.mode).reset_index()\n",
    "trip_summary['max_dist'] = trip_summary['trip_dist'].apply(lambda x: x.right)"
   ]
  },
  {
   "cell_type": "code",
   "execution_count": null,
   "metadata": {},
   "outputs": [],
   "source": [
    "trip_summary = trip_summary[trip_summary.groupby(['HOUSEID','PERSONID','WHYTRP90'])['max_dist'].transform(max) == trip_summary['max_dist']]\n",
    "\n",
    "trip_summary = trip_summary[['HOUSEID','PERSONID','WHYTRP90','trip_dist']]"
   ]
  },
  {
   "cell_type": "code",
   "execution_count": null,
   "metadata": {},
   "outputs": [],
   "source": [
    "pivoted = trip_summary.pivot(index = ['HOUSEID','PERSONID'],\n",
    "                  columns = 'WHYTRP90',\n",
    "                  values = 'trip_dist')\n",
    "\n",
    "trip_why_common = pd.DataFrame(pivoted.to_records()).rename(columns = {'1':'dist_to_work',\n",
    "                                                       '3':'dist_to_shopping',\n",
    "                                                        '4':'dist_to_family',\n",
    "                                                       '5':'dist_to_school_or_church',\n",
    "                                                        '8': 'dist_to_relatives',\n",
    "                                                        '10':'dist_to_social'})"
   ]
  },
  {
   "cell_type": "code",
   "execution_count": null,
   "metadata": {},
   "outputs": [],
   "source": [
    "trip_why_common"
   ]
  },
  {
   "cell_type": "code",
   "execution_count": null,
   "metadata": {},
   "outputs": [],
   "source": [
    "# Combine x_train with x_train_index \n",
    "x_train = pd.concat([x_train_index,x_train],axis = 1)\n",
    "\n",
    "# Combine x_test with x_test_index\n",
    "x_test = pd.concat([x_test_index, x_test],axis = 1)"
   ]
  },
  {
   "cell_type": "code",
   "execution_count": null,
   "metadata": {},
   "outputs": [],
   "source": [
    "x_train_with_dist = x_train.merge(trip_why_common, how = 'left',left_on = ['HOUSEID','PERSONID'], right_on = ['HOUSEID','PERSONID'])\n",
    "\n",
    "x_test_with_dist = x_test.merge(trip_why_common, how = 'left',left_on = ['HOUSEID','PERSONID'], right_on = ['HOUSEID','PERSONID'])"
   ]
  },
  {
   "cell_type": "code",
   "execution_count": null,
   "metadata": {},
   "outputs": [],
   "source": [
    "x_test_with_dist = x_test.merge(trip_why_common, how = 'left',left_on = ['HOUSEID','PERSONID'], right_on = ['HOUSEID','PERSONID'])"
   ]
  },
  {
   "cell_type": "code",
   "execution_count": null,
   "metadata": {},
   "outputs": [],
   "source": [
    "x_test_with_dist"
   ]
  },
  {
   "cell_type": "markdown",
   "metadata": {},
   "source": [
    "### 2.5.2. One Hot Encoding of Distance Metrics"
   ]
  },
  {
   "cell_type": "code",
   "execution_count": null,
   "metadata": {},
   "outputs": [],
   "source": [
    "to_obj = ['dist_to_work','dist_to_shopping','dist_to_family','dist_to_school_or_church','dist_to_relatives','dist_to_social']\n",
    "\n",
    "x_train_with_dist[to_obj] = x_train_with_dist[to_obj].astype(str)\n",
    "x_test_with_dist[to_obj]= x_test_with_dist[to_obj].astype(str)"
   ]
  },
  {
   "cell_type": "code",
   "execution_count": null,
   "metadata": {},
   "outputs": [],
   "source": [
    "x_train_with_dist = pd.concat([x_train_with_dist,pd.get_dummies(x_train_with_dist[to_obj],prefix = to_obj)],axis = 1)\n",
    "x_train_with_dist.drop(to_obj, axis = 1, inplace = True)\n",
    "\n",
    "x_test_with_dist = pd.concat([x_test_with_dist,pd.get_dummies(x_test_with_dist[to_obj],prefix = to_obj)],axis = 1)\n",
    "x_test_with_dist.drop(to_obj, axis = 1, inplace = True)"
   ]
  },
  {
   "cell_type": "code",
   "execution_count": null,
   "metadata": {},
   "outputs": [],
   "source": [
    "#drop all negative value columns  \n",
    "\n",
    "na_cols_train =[c for c in x_train_with_dist if ('NA' in c) or ('-' in c) or ('nan' in c)]\n",
    "\n",
    "x_train_with_dist.drop(na_cols_train, axis = 1, inplace = True)\n",
    "\n",
    "\n",
    "na_cols_test =[c for c in x_test_with_dist if ('NA' in c) or ('-' in c) or ('nan' in c)]\n",
    "x_test_with_dist.drop(na_cols_test, axis = 1 , inplace = True)"
   ]
  },
  {
   "cell_type": "code",
   "execution_count": null,
   "metadata": {},
   "outputs": [],
   "source": [
    "x_train_with_dist"
   ]
  },
  {
   "cell_type": "code",
   "execution_count": null,
   "metadata": {},
   "outputs": [],
   "source": [
    "dist_dict = {'dist_to_work_(0.0, 2.0]':'dist_to_work_between_0_and_2',\n",
    "            'dist_to_work_(10.0, 3621.0]':'dist_to_work_more_than_10',\n",
    "            'dist_to_work_(2.0, 4.0]':'dist_to_work_between_2_and_4',\n",
    "            'dist_to_work_(4.0, 10.0]':'dist_to_work_between_4_and_10',\n",
    "             'dist_to_shopping_(0.0, 2.0]':'dist_to_shopping_between_0_and_2',\n",
    "             'dist_to_shopping_(10.0, 3621.0]':'dist_to_shopping_more_than_10',\n",
    "             'dist_to_shopping_(2.0, 4.0]':'dist_to_shopping_between_2_and_4',\n",
    "             'dist_to_shopping_(4.0, 10.0]':'dist_to_shopping_between_4_and_10',\n",
    "             'dist_to_family_(0.0, 2.0]':'dist_to_family_between_0_and_2',\n",
    "             'dist_to_family_(10.0, 3621.0]':'dist_to_family_greater_than_10',\n",
    "             'dist_to_family_(2.0, 4.0]':'dist_to_family_between_2_and_4',\n",
    "             'dist_to_family_(4.0, 10.0]':'dist_to_family_between_4_and_10',\n",
    "             'dist_to_school_or_church_(0.0, 2.0]':'dist_to_school_or_church_between_0_and_2',\n",
    "             'dist_to_school_or_church_(10.0, 3621.0]':'dist_to_school_or_church_greater_than_10',\n",
    "             'dist_to_school_or_church_(2.0, 4.0]':'dist_to_school_or_church_between_2_and_4',\n",
    "             'dist_to_school_or_church_(4.0, 10.0]':'dist_to_school_or_church_between_4_and_10',\n",
    "             'dist_to_relatives_(0.0, 2.0]':'dist_to_relatvies_between_0_and_2',\n",
    "             'dist_to_relatives_(10.0, 3621.0]':'dist_to_relatvies_greater_than_10',\n",
    "             'dist_to_relatives_(2.0, 4.0]':'dist_to_relatvies_between_2_and_4',\n",
    "             'dist_to_relatives_(4.0, 10.0]':'dist_to_relatvies_between_4_and_10',\n",
    "             'dist_to_social_(0.0, 2.0]':'dist_to_social_between_0_and_2',\n",
    "             'dist_to_social_(10.0, 3621.0]':'dist_to_social_greater_than_10',\n",
    "             'dist_to_social_(2.0, 4.0]':'dist_to_social_between_2_and_4',\n",
    "             'dist_to_social_(4.0, 10.0]':'dist_to_social_between_4_and_10'}\n",
    "\n",
    "dist_cols = [c for c in x_train_with_dist if 'dist' in c]\n",
    "\n",
    "x_train_with_dist.rename(columns=dist_dict,inplace = True)\n",
    "x_test_with_dist.rename(columns = dist_dict, inplace = True)"
   ]
  },
  {
   "cell_type": "code",
   "execution_count": null,
   "metadata": {},
   "outputs": [],
   "source": [
    "x_train_with_dist.drop(['HOUSEID','PERSONID'],axis=1, inplace = True)\n",
    "x_test_with_dist.drop(['HOUSEID','PERSONID'],axis =1 , inplace = True)"
   ]
  },
  {
   "cell_type": "markdown",
   "metadata": {},
   "source": [
    "## 2.6 Models - Second Run (with Dist Features)"
   ]
  },
  {
   "cell_type": "markdown",
   "metadata": {},
   "source": [
    "### 2.6.1. Linear Models"
   ]
  },
  {
   "cell_type": "markdown",
   "metadata": {},
   "source": [
    "#### 2.6.1.1. Linear Regression"
   ]
  },
  {
   "cell_type": "code",
   "execution_count": null,
   "metadata": {},
   "outputs": [],
   "source": [
    "LRmodel_with_dist = linear_model.LinearRegression()  #create the linear regression \n",
    "LRmodel_with_dist.fit(x_train_with_dist,y_train) #train the model using the training set \n",
    "LR_pred_with_dist = LRmodel_with_dist.predict(x_test_with_dist) #use this model to predict the test data set "
   ]
  },
  {
   "cell_type": "code",
   "execution_count": null,
   "metadata": {},
   "outputs": [],
   "source": [
    "print('R^2 score:\\t\\t\\t\\t',LRmodel_with_dist.score(x_test_with_dist, y_test)) #compute R^2 score \n",
    "print('Explained Variance: \\t\\t\\t', metrics.explained_variance_score(y_test, LR_pred_with_dist)) #compute explained variance score\n",
    "print('Mean Absolute Error: \\t\\t\\t', metrics.mean_absolute_error(y_test, LR_pred_with_dist)) #compute MAE results\n",
    "print('Mean Squared Error:\\t\\t\\t', metrics.mean_squared_error(y_test, LR_pred_with_dist)) #compute MSE results\n",
    "print('Root Mean Squared Error:\\t\\t', metrics.mean_squared_error(y_test, LR_pred_with_dist, squared = False)) #compute RSME results\n",
    "print('Intercept:\\t', LRmodel_with_dist.intercept_) #find intercept value \n",
    "print('Coef:\\t', np.sum(LRmodel_with_dist.coef_!=0))#find no of features used in regression model "
   ]
  },
  {
   "cell_type": "code",
   "execution_count": null,
   "metadata": {},
   "outputs": [],
   "source": [
    "sns.regplot(y_test,LR_pred_with_dist) #plotting predictions "
   ]
  },
  {
   "cell_type": "code",
   "execution_count": null,
   "metadata": {},
   "outputs": [],
   "source": [
    "#calculate VIF scores to detect multicolinearity \n",
    "\n",
    "# VIF dataframe\n",
    "vif_data_with_dist = pd.DataFrame()\n",
    "vif_data_with_dist[\"feature\"] = x_train_with_dist.columns\n",
    "  \n",
    "# calculating VIF for each feature\n",
    "vif_data_with_dist[\"VIF\"] = [variance_inflation_factor(x_train_with_dist.values, i)\n",
    "                          for i in range(len(x_train_with_dist.columns))]\n",
    "  \n",
    "print(vif_data_with_dist)"
   ]
  },
  {
   "cell_type": "code",
   "execution_count": null,
   "metadata": {},
   "outputs": [],
   "source": [
    "vif_data_with_dist.sort_values(by = 'VIF', ascending = False)"
   ]
  },
  {
   "cell_type": "code",
   "execution_count": null,
   "metadata": {},
   "outputs": [],
   "source": [
    "# counting number of infinity features \n",
    "\n",
    "vif_data_inf_with_dist = np.isinf(vif_data_with_dist['VIF']).values.sum()\n",
    "print(\"It contains \" + str(vif_data_inf_with_dist) + \" infinite values\")"
   ]
  },
  {
   "cell_type": "code",
   "execution_count": null,
   "metadata": {},
   "outputs": [],
   "source": [
    "#cross validation to see if it will improve results \n",
    "folds = model_selection.KFold(n_splits = 5, shuffle = True, random_state = 100)\n",
    "scores_with_dist = model_selection.cross_validate(LRmodel_with_dist, x_train_with_dist, y_train, \n",
    "                                                  scoring=('r2','neg_mean_squared_error'), cv=folds)"
   ]
  },
  {
   "cell_type": "code",
   "execution_count": null,
   "metadata": {},
   "outputs": [],
   "source": [
    "scores_with_dist"
   ]
  },
  {
   "cell_type": "code",
   "execution_count": null,
   "metadata": {},
   "outputs": [],
   "source": [
    "np.set_printoptions(formatter={'float_kind':'{:f}'.format})\n",
    "scores_with_dist"
   ]
  },
  {
   "cell_type": "code",
   "execution_count": null,
   "metadata": {},
   "outputs": [],
   "source": [
    "#specify range of hyperparameters to tune\n",
    "hyper_params = [{'n_features_to_select': list(range(1,140))}]\n",
    "\n",
    "\n",
    "# perform grid search\n",
    "\n",
    "rfe_with_dist = RFE(LRmodel_with_dist)             \n",
    "\n",
    "# 3.2 call GridSearchCV()\n",
    "model_cv_with_dist = model_selection.GridSearchCV(estimator = rfe_with_dist, \n",
    "                        param_grid = hyper_params, \n",
    "                        scoring= 'neg_mean_squared_error', \n",
    "                        cv = folds, \n",
    "                        verbose = 10,\n",
    "                        return_train_score=True)      \n",
    "\n",
    "# fit the model\n",
    "model_cv_with_dist.fit(x_train_with_dist, y_train)"
   ]
  },
  {
   "cell_type": "code",
   "execution_count": null,
   "metadata": {},
   "outputs": [],
   "source": [
    "#grid_search.fit(train_features, train_labels)\n",
    "print(model_cv_with_dist.best_params_)\n",
    "\n",
    "print(model_cv_with_dist.best_estimator_)\n",
    "print(model_cv_with_dist.best_score_)\n",
    "\n",
    "model_cv_with_dist_y_pred_rfgs = model_cv_with_dist.predict(x_test_with_dist)\n",
    "model_cv_with_dist_rmse = np.sqrt(metrics.mean_squared_error(y_test, model_cv_with_dist_y_pred_rfgs))\n",
    "print(\"RMSE: %f\" % (model_cv_with_dist_rmse))\n",
    "\n",
    "print(\"Mean squared error: %.2f\"\n",
    "      % metrics.mean_squared_error(y_test, model_cv_with_dist_y_pred_rfgs))\n",
    "# Explained variance score: 1 is perfect prediction\n",
    "print('R2 score: %.2f' % metrics.r2_score(y_test, model_cv_with_dist_y_pred_rfgs))"
   ]
  },
  {
   "cell_type": "code",
   "execution_count": null,
   "metadata": {},
   "outputs": [],
   "source": [
    "# cv results\n",
    "cv_results_with_dist = pd.DataFrame(model_cv_with_dist.cv_results_)\n",
    "cv_results_with_dist"
   ]
  },
  {
   "cell_type": "code",
   "execution_count": null,
   "metadata": {},
   "outputs": [],
   "source": [
    "# plotting cv results\n",
    "plt.figure(figsize=(16,6))\n",
    "\n",
    "plt.plot(cv_results[\"param_n_features_to_select\"], cv_results[\"mean_test_score\"])\n",
    "#plt.plot(cv_results_with_dist[\"param_n_features_to_select\"], cv_results[\"mean_train_score\"])\n",
    "plt.xlabel('number of features')\n",
    "plt.ylabel('r-squared')\n",
    "plt.title(\"Optimal Number of Features\")\n",
    "plt.legend(['test score', 'train score'], loc='upper left')"
   ]
  },
  {
   "cell_type": "markdown",
   "metadata": {},
   "source": [
    "### 2.6.1.2 Linear Regression – Regularisation"
   ]
  },
  {
   "cell_type": "markdown",
   "metadata": {},
   "source": [
    "**Lasso Regularisation**"
   ]
  },
  {
   "cell_type": "code",
   "execution_count": null,
   "metadata": {},
   "outputs": [],
   "source": [
    "alpha = [0.0001, 0.001, 0.005, 0.01]\n",
    "\n",
    "for i in range(4):\n",
    "    #build lasso regressor model here\n",
    "    lasso_with_dist = linear_model.Lasso(alpha=alpha[i])\n",
    "    lasso_with_dist.fit(x_train_with_dist, y_train) #fit a lasso regression on the training data\n",
    "    y_predlasso_with_dist = lasso_with_dist.predict(x_test_with_dist) #use this model to predict the test data\n",
    "    lasso_mse_with_dist = metrics.mean_squared_error(y_test, y_predlasso_with_dist) #calculate the test MSE\n",
    "    lasso_rmse_with_dist = metrics.mean_squared_error(y_test, y_predlasso_with_dist,squared = False) #calculate the test RMSE\n",
    "    msemanual_with_dist = np.mean((y_predlasso_with_dist-y_test)**2) #calculate mse manually to cross validate\n",
    "    lasso_cplxy_with_dist = (np.sum(abs(lasso_with_dist.coef_))) #calculate l1norm / model complexity\n",
    "    \n",
    "    print('-' * 32)\n",
    "    print('lasso with alpha', alpha[i])\n",
    "    print('-' * 32)\n",
    "    print('\\nTrain score:', round(lasso_with_dist.score(x_train_with_dist, y_train), 3)) #compute train R^2 score\n",
    "    print('Test score:', round(lasso_with_dist.score(x_test_with_dist, y_test), 3)) #compute test R^2 score\n",
    "    print(list(map(lambda x: round(x, 3), lasso_with_dist.coef_))) #list out the coef values \n",
    "    print('-' * 32)\n",
    "    print('MSE on test set:', lasso_mse_with_dist) #compute MSE results\n",
    "    print('Manual MSE on test set:',msemanual_with_dist) #compute MSE results\n",
    "    print('RMSE on test set:', lasso_rmse_with_dist) #compute RMSE results\n",
    "    print('model complexity:', lasso_cplxy_with_dist) #compute L1 NOMR score\n",
    "    print('regularized cost:', lasso_mse_with_dist + alpha[i] * lasso_cplxy_with_dist) #compute regularised cost function scores\n",
    "    print('\\n')\n"
   ]
  },
  {
   "cell_type": "markdown",
   "metadata": {},
   "source": [
    "**Ridge Regularisation**"
   ]
  },
  {
   "cell_type": "code",
   "execution_count": null,
   "metadata": {},
   "outputs": [],
   "source": [
    "ridgealpha = [0.001, 0.01, 0.1, 1]\n",
    "\n",
    "for i in range(4):\n",
    "    #build ridge regressor here\n",
    "    ridge_with_dist = linear_model.Ridge(alpha=ridgealpha[i])\n",
    "    ridge_with_dist.fit(x_train_with_dist, y_train) #fit a ridge regression on the training data\n",
    "    y_pred_ridge_with_dist = ridge_with_dist.predict(x_test_with_dist) #use this model to predict the test data\n",
    "    ridge_mse_with_dist = metrics.mean_squared_error(y_test, y_pred_ridge_with_dist) #calculate the test mse\n",
    "    ridge_rmse_with_dist = metrics.mean_squared_error(y_test, y_pred_ridge_with_dist,squared = False) #calculate the test rmse\n",
    "    ridge_cplxy_with_dist = (np.linalg.norm(ridge_with_dist.coef_)) #calculate l2norm / model complexity\n",
    "    \n",
    "    print('-' * 32)\n",
    "    print('ridge with alpha', ridgealpha[i])\n",
    "    print('-' * 32)\n",
    "    print('\\nTrain score:', round(ridge_with_dist.score(x_train_with_dist, y_train), 3))\n",
    "    print('Test score:', round(ridge_with_dist.score(x_test_with_dist, y_test), 3))\n",
    "    print(list(map(lambda x: round(x, 3), ridge_with_dist.coef_)))\n",
    "    print('-' * 32)\n",
    "    print('MSE on test set:', ridge_mse_with_dist)\n",
    "    print('RMSE on test set:', ridge_rmse_with_dist)\n",
    "    print('model complexity:', ridge_cplxy_with_dist)\n",
    "    print('regularized cost:', ridge_mse_with_dist + ridgealpha[i] * ridge_cplxy_with_dist)\n",
    "    print('\\n')"
   ]
  },
  {
   "cell_type": "markdown",
   "metadata": {},
   "source": [
    "### 2.6.1.3. Principal Component Regression"
   ]
  },
  {
   "cell_type": "code",
   "execution_count": null,
   "metadata": {},
   "outputs": [],
   "source": [
    "pca_with_dist = PCA()\n",
    "x_reduced_with_dist = pca_with_dist.fit_transform(scale(x_train_with_dist))"
   ]
  },
  {
   "cell_type": "code",
   "execution_count": null,
   "metadata": {},
   "outputs": [],
   "source": [
    "pd.DataFrame(pca_with_dist.components_.T).loc[:4,:5]\n",
    "#pd.DataFrame(pca.components_.T)"
   ]
  },
  {
   "cell_type": "code",
   "execution_count": null,
   "metadata": {},
   "outputs": [],
   "source": [
    "# 10-fold CV, with shuffle\n",
    "kf_5 = model_selection.KFold(n_splits=5, shuffle=True, random_state=100)\n",
    "\n",
    "pcascores_with_dist = model_selection.cross_validate(LRmodel_with_dist, x_reduced_with_dist, y_train, \n",
    "                                                               scoring=('r2','neg_mean_squared_error'), cv=kf_5)"
   ]
  },
  {
   "cell_type": "code",
   "execution_count": null,
   "metadata": {},
   "outputs": [],
   "source": [
    "pcascores_with_dist"
   ]
  },
  {
   "cell_type": "markdown",
   "metadata": {},
   "source": [
    "## 2.6.2. Ensemble Models"
   ]
  },
  {
   "cell_type": "markdown",
   "metadata": {},
   "source": [
    "###  2.6.2.1. Random Forest "
   ]
  },
  {
   "cell_type": "code",
   "execution_count": null,
   "metadata": {},
   "outputs": [],
   "source": [
    "# Create the parameter grid based on the results of random search \n",
    "param_grid = {\n",
    "    'bootstrap': [True],\n",
    "    'max_features': [30, 33, 36],\n",
    "    'oob_score': [True],\n",
    "    'n_estimators': [2500, 2750, 3000]\n",
    "}\n",
    "\n",
    "# Create a based model\n",
    "rfgs = RandomForestRegressor()\n",
    "# Instantiate the grid search model\n",
    "grid_search = GridSearchCV(estimator = rfgs, param_grid = param_grid, cv = 3, n_jobs = 3, verbose = 10)\n",
    "#wrapper_gs = RegressorChain(grid_search)\n",
    "grid_search.fit(x_train_with_dist, y_train)\n",
    "\n",
    "#grid_search.fit(train_features, train_labels)\n",
    "print(grid_search.best_params_)\n",
    "\n",
    "print(grid_search.best_estimator_)\n",
    "print(grid_search.best_score_)\n",
    "\n",
    "y_pred_rfgs = grid_search.predict(x_test_with_dist)\n",
    "rmse = np.sqrt(mean_squared_error(y_test, y_pred_rfgs))\n",
    "print(\"RMSE: %f\" % (rmse))\n",
    "\n",
    "print(\"Mean squared error: %.2f\"\n",
    "      % mean_squared_error(y_test, y_pred_rfgs))\n",
    "# Explained variance score: 1 is perfect prediction\n",
    "print('R2 score: %.2f' % r2_score(y_test, y_pred_rfgs))"
   ]
  },
  {
   "cell_type": "markdown",
   "metadata": {},
   "source": [
    "### 2.6.2.2. Adaboost"
   ]
  },
  {
   "cell_type": "code",
   "execution_count": null,
   "metadata": {},
   "outputs": [],
   "source": [
    "ada2=ensemble.AdaBoostRegressor(tree.DecisionTreeRegressor(), random_state = 888)\n",
    "\n",
    "parameters ={\n",
    "    'n_estimators':[800, 900, 1000],\n",
    "    'learning_rate':[0.01, 0.1],\n",
    "    'base_estimator__max_depth':[25, 30, 35]\n",
    "}\n",
    "\n",
    "\n",
    "grid_ADA = GridSearchCV(estimator=ada2, param_grid=parameters, scoring='neg_mean_squared_error',n_jobs=3, cv=3, verbose=10)\n",
    "grid_ADA.fit(x_train_with_dist, y_train)\n",
    "\n",
    " \n",
    "print(\" Results from Grid Search \" )\n",
    "print(\"\\n The best estimator across ALL searched params:\\n\",grid_ADA.best_estimator_)\n",
    "print(\"\\n The best score across ALL searched params:\\n\",grid_ADA.best_score_)\n",
    "print(\"\\n The best parameters across ALL searched params:\\n\",grid_ADA.best_params_)\n",
    "#print(\"\\n The best accuracy across ALL searched params:\\n\",evaluate(best_grid, x_test, y_test_one))\n",
    "\n",
    " \n",
    "y_pred_ADA = grid_ADA.predict(x_test_with_dist)\n",
    "rmse = np.sqrt(mean_squared_error(y_test, y_pred_ADA))\n",
    "print(\"RMSE: %f\" % (rmse))\n",
    "print(\"Mean squared error: %.2f\" % mean_squared_error(y_test, y_pred_ADA))\n",
    "\n",
    "# Explained variance score: 1 is perfect prediction\n",
    "print('R2 score: %.2f' % r2_score(y_test, y_pred_ADA))"
   ]
  },
  {
   "cell_type": "markdown",
   "metadata": {},
   "source": [
    "### 2.6.2.3. Gradient Boosting Regressor"
   ]
  },
  {
   "cell_type": "code",
   "execution_count": null,
   "metadata": {},
   "outputs": [],
   "source": [
    "GBR = ensemble.GradientBoostingRegressor(random_state = 888)\n",
    "\n",
    "parameters = {\n",
    "    'learning_rate': [0.1, 0.2],\n",
    "    'n_estimators' : [250, 275, 300],\n",
    "    'max_depth'    : [2, 3, 4, 5]\n",
    "}\n",
    "\n",
    " \n",
    "grid_GBR = GridSearchCV(estimator=GBR, param_grid = parameters, cv = 3, n_jobs=3, verbose = 10)\n",
    "grid_GBR.fit(x_train_with_dist, y_train)\n",
    "\n",
    "\n",
    "print(\" Results from Grid Search \" )\n",
    "print(\"\\n The best estimator across ALL searched params:\\n\",grid_GBR.best_estimator_)\n",
    "print(\"\\n The best score across ALL searched params:\\n\",grid_GBR.best_score_)\n",
    "print(\"\\n The best parameters across ALL searched params:\\n\",grid_GBR.best_params_)\n",
    "#print(\"\\n The best accuracy across ALL searched params:\\n\",evaluate(best_grid, x_test, y_test_one))\n",
    " \n",
    "\n",
    "y_pred_GBR = grid_GBR.predict(x_test_with_dist)\n",
    "rmse = np.sqrt(mean_squared_error(y_test, y_pred_GBR))\n",
    "\n",
    "print(\"RMSE: %f\" % (rmse))\n",
    "print(\"Mean squared error: %.2f\" % mean_squared_error(y_test, y_pred_GBR))\n",
    "\n",
    "# Explained variance score: 1 is perfect prediction\n",
    "print('R2 score: %.4f' % r2_score(y_test, y_pred_GBR))"
   ]
  },
  {
   "cell_type": "markdown",
   "metadata": {},
   "source": [
    "### 2.6.2.4. XGBoost "
   ]
  },
  {
   "cell_type": "code",
   "execution_count": null,
   "metadata": {},
   "outputs": [],
   "source": [
    "start_time = time.time()\n",
    "\n",
    "import xgboost as xgb\n",
    "from xgboost.sklearn import XGBRegressor\n",
    "from sklearn.model_selection import GridSearchCV\n",
    "from sklearn.metrics import mean_squared_error\n",
    "from sklearn.metrics import r2_score\n",
    "\n",
    "\n",
    "xgb1 = XGBRegressor()\n",
    "parameters = {'nthread':[4], #when use hyperthread, xgboost may become slower\n",
    "              'objective':['reg:squarederror'],\n",
    "              'learning_rate': [0.001, 0.01, 0.03], #so called `eta` value\n",
    "              'max_depth': [7, 9,11],\n",
    "              'min_child_weight': [4],\n",
    "              'verbosity': [2],\n",
    "              'subsample': [0.7],\n",
    "              'colsample_bytree': [0.7],\n",
    "              'n_estimators': [1000, 1200, 1400]}\n",
    "\n",
    "grid_xgb = GridSearchCV(estimator = xgb1,\n",
    "                        param_grid = parameters,\n",
    "                        cv = 3,\n",
    "                        n_jobs = 3,\n",
    "                        verbose=10)\n",
    "\n",
    "grid_xgb.fit(x_train_with_dist,\n",
    "         y_train)\n",
    "\n",
    "print(\" Results from Grid Search \" )\n",
    "print(\"\\n The best estimator across ALL searched params:\\n\",grid_xgb.best_estimator_)\n",
    "print(\"\\n The best score across ALL searched params:\\n\",grid_xgb.best_score_)\n",
    "print(\"\\n The best parameters across ALL searched params:\\n\",grid_xgb.best_params_)\n",
    "\n",
    "#print(\"\\n The best accuracy across ALL searched params:\\n\",evaluate(best_grid, x_test, y_test_one))\n",
    "\n",
    "\n",
    "y_pred_xgb = grid_xgb.predict(x_test_with_dist)\n",
    "rmse = np.sqrt(mean_squared_error(y_test, y_pred_xgb))\n",
    "\n",
    "print(\"RMSE: %f\" % (rmse))\n",
    "print(\"Mean squared error: %.2f\" % mean_squared_error(y_test, y_pred_xgb))\n",
    "\n",
    "# Explained variance score: 1 is perfect prediction\n",
    "print('R2 score: %.4f' % r2_score(y_test, y_pred_xgb))\n",
    "\n",
    "print(\"run time:\", str(time.time()-start_time), \"start time:\", str(start_time), \"end time\",str(time.time()))"
   ]
  },
  {
   "cell_type": "code",
   "execution_count": null,
   "metadata": {},
   "outputs": [],
   "source": [
    "best_xg = grid_xgb.best_estimator_\n",
    "#best_xg.feature_importances_\n",
    "plot_importance(best_xg,max_num_features =10,importance_type = 'gain')\n",
    "\n",
    "\n",
    "#plot_importance(xgb1,max_num_features =20,importance_type = 'gain')\n",
    "plt.show()"
   ]
  },
  {
   "cell_type": "markdown",
   "metadata": {},
   "source": [
    "### 2.6.2.5. Neural Network"
   ]
  },
  {
   "cell_type": "code",
   "execution_count": null,
   "metadata": {},
   "outputs": [],
   "source": [
    "#use the same param_grid as earlier\n",
    "\n",
    "start_time = time.time()\n",
    "\n",
    "input_shape = [x_train_with_dist.shape[1]]\n",
    "learn_rate = ((0.001),(0.01),(0.1))\n",
    "batch_size = ((128,),(256,))\n",
    "dropout_rate = ((0.1),(0),(0.2))\n",
    "name = ['deep']\n",
    "kernel_reg = ((tf.keras.regularizers.l2(0.04)),('glorot_uniform'))\n",
    "layers = ((64,32,16,8),(64,16,8,4),(64,32,16,8,4),(30,20,10,8))\n",
    "\n",
    " \n",
    "param_grid = dict(input_shape = input_shape,\n",
    "                  learn_rate = learn_rate,\n",
    "                  dropout_rate = dropout_rate,\n",
    "                  layers = layers,\n",
    "                  kernel_reg = kernel_reg)\n",
    "\n",
    "    \n",
    "model_deep = KerasRegressor(build_fn = create_model_deep, epochs = 1000, batch_size = 256, verbose =10)\n",
    "nn_grid = GridSearchCV(estimator = model_deep, param_grid = param_grid, n_jobs = 3, scoring='neg_mean_squared_error',verbose =5, cv = model_selection.KFold(n_splits = 5, shuffle = True, random_state = 888))\n",
    "nn_grid_result = nn_grid.fit(x_train_with_dist, y_train)\n",
    "best_nn = nn_grid.best_estimator_\n",
    "\n",
    "print(\"run time:\", str(time.time()-start_time), \"start time:\", str(start_time), \"end time\",str(time.time()))"
   ]
  },
  {
   "cell_type": "code",
   "execution_count": null,
   "metadata": {},
   "outputs": [],
   "source": [
    "predictions = best_nn.predict(x_test_with_dist)\n",
    "mse = metrics.mean_squared_error(y_test,predictions)\n",
    "rmse = np.sqrt(mse)\n",
    "rsquare = r2_score(y_test, predictions)\n",
    "\n",
    "print('Model Preformance')\n",
    "print('rmse',rmse)\n",
    "print('mse',mse)\n",
    "print('R square:', rsquare)"
   ]
  },
  {
   "cell_type": "code",
   "execution_count": null,
   "metadata": {},
   "outputs": [],
   "source": [
    "nn_grid_result.best_params_"
   ]
  },
  {
   "cell_type": "markdown",
   "metadata": {},
   "source": [
    "| X_Train_with_dist | Linear - Lasso | Ensemble - XGBoost | Nerual Network | \n",
    "|---|---|---|---|\n",
    "| MSE  | 2.81 | 2.68| 2.79 |\n",
    "| RMSE | 1.68 | 1.63 | 1.67 | \n",
    "| R-Square| 0.492 | 0.517 | 0.496 | \n"
   ]
  },
  {
   "cell_type": "markdown",
   "metadata": {},
   "source": [
    "Overall, adding distance features improved all models significantly and hence reccommendation is for future surveys to add in questions regarding main why column to ask distance bins.\n",
    "\n",
    "e.g. select from bins the distance to workplace for each member of the family \n"
   ]
  }
 ],
 "metadata": {
  "kernelspec": {
   "display_name": "Python 3",
   "language": "python",
   "name": "python3"
  },
  "language_info": {
   "codemirror_mode": {
    "name": "ipython",
    "version": 3
   },
   "file_extension": ".py",
   "mimetype": "text/x-python",
   "name": "python",
   "nbconvert_exporter": "python",
   "pygments_lexer": "ipython3",
   "version": "3.8.3"
  }
 },
 "nbformat": 4,
 "nbformat_minor": 2
}
